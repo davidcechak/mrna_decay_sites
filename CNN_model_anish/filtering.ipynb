{
 "cells": [
  {
   "cell_type": "code",
   "execution_count": 1,
   "id": "d3a22ee4-9e3b-49e7-90c1-39136b2a7a4b",
   "metadata": {},
   "outputs": [],
   "source": [
    "import pysam\n",
    "import gffutils\n",
    "import collections\n",
    "import os\n",
    "\n",
    "home_path = '/home/jovyan'\n",
    "\n",
    "# trans = home_path + 'decay/decay/data/hg38/transcripts.fa'\n",
    "# bam_path = home_path + '/decay/decay/samples/hsa.dRNASeq.HeLa.polyA.REL5.long.1/reads.1.sanitize.noribo.toTranscriptome.sorted.bam'\n",
    "# bam_path = home_path + '/decay/decay/samples/hsa.dRNASeq.HeLa.polyA.decap.REL5.long.1/reads_no_chr1.bam'\n",
    "# bam_path = home_path + '/decay/decay/samples/hsa.dRNASeq.HeLa.polyA.REL5.long.1/filtered.bam'\n",
    "\n",
    "# version = \"cds_local.max.ds2to11\"\n",
    "# version = \"cds_local.max\"\n",
    "version = \"cds_local.max.101n\"\n",
    "\n",
    "train_or_test = 'test'\n",
    "# dataset_name = 'hsa.dRNASeq.HeLa.polyA.REL5.long.1'\n",
    "dataset_name = 'hsa.dRNASeq.HeLa.polyA.REL5.long.2'\n",
    "# dataset_name = \"hsa.dRNASeq.HeLa.polyA.REL5.long.2\"\n",
    "MERGE_DATASETS = True\n",
    "merge_ds_name = 'ds2to11'\n",
    "additional_ds_names = [\n",
    "    # 'hsa.dRNASeq.HeLa.polyA.REL5.long.1',\n",
    "\t# \"hsa.dRNASeq.HeLa.polyA.REL5.long.2\",\n",
    "\t\"hsa.dRNASeq.HeLa.polyA.REL5.long.3\",\n",
    "\t\"hsa.dRNASeq.HeLa.polyA.REL5.long.4\",\n",
    "\t\"hsa.dRNASeq.HeLa.polyA.REL5.long.5\",\n",
    "\t\"hsa.dRNASeq.HeLa.polyA.REL5.long.6\",\n",
    "\t\"hsa.dRNASeq.HeLa.polyA.REL5.long.7\",\n",
    "\t\"hsa.dRNASeq.HeLa.polyA.REL5.long.8\",\n",
    "\t\"hsa.dRNASeq.HeLa.polyA.REL5.long.9\",\n",
    "\t\"hsa.dRNASeq.HeLa.polyA.REL5.long.10\",\n",
    "\t\"hsa.dRNASeq.HeLa.polyA.REL5.long.11\",\n",
    "]\n",
    "\n",
    "GENERATE_NEW_TRAIN_TEST_SPLIT_BAMS = False\n",
    "\n",
    "samples_path=\"../samples/\"\n",
    "gtf_file = \"../data/annotation.gtf\"\n",
    "reads_file_name=\"reads.1.sanitize.noribo.toTranscriptome.sorted.bam\"\n",
    "transcripts_file = \"chr1_transcripts.txt\"\n"
   ]
  },
  {
   "cell_type": "code",
   "execution_count": 2,
   "id": "b7b33120-7fcb-4cff-b550-b6b5ba29c58f",
   "metadata": {},
   "outputs": [
    {
     "data": {
      "text/plain": [
       "['hsa.dRNASeq.HeLa.polyA.REL5.long.2',\n",
       " 'hsa.dRNASeq.HeLa.polyA.REL5.long.3',\n",
       " 'hsa.dRNASeq.HeLa.polyA.REL5.long.4',\n",
       " 'hsa.dRNASeq.HeLa.polyA.REL5.long.5',\n",
       " 'hsa.dRNASeq.HeLa.polyA.REL5.long.6',\n",
       " 'hsa.dRNASeq.HeLa.polyA.REL5.long.7',\n",
       " 'hsa.dRNASeq.HeLa.polyA.REL5.long.8',\n",
       " 'hsa.dRNASeq.HeLa.polyA.REL5.long.9',\n",
       " 'hsa.dRNASeq.HeLa.polyA.REL5.long.10',\n",
       " 'hsa.dRNASeq.HeLa.polyA.REL5.long.11']"
      ]
     },
     "execution_count": 2,
     "metadata": {},
     "output_type": "execute_result"
    }
   ],
   "source": [
    "samples = [dataset_name, *additional_ds_names]\n",
    "samples"
   ]
  },
  {
   "cell_type": "markdown",
   "id": "47f51d67-b961-4184-8908-aa90840955aa",
   "metadata": {},
   "source": [
    "### Split the data to chromosome 1 and other chromosomes"
   ]
  },
  {
   "cell_type": "code",
   "execution_count": 3,
   "id": "bd0f4298-c301-4972-95c6-53cfef2305a7",
   "metadata": {},
   "outputs": [],
   "source": [
    "from preprocessing import train_test_split\n",
    "\n",
    "if GENERATE_NEW_TRAIN_TEST_SPLIT_BAMS:\n",
    "    train_test_split(samples, samples_path, gtf_file, reads_file_name, home_path, transcripts_file)"
   ]
  },
  {
   "cell_type": "markdown",
   "id": "9a69f216-3a5c-44bd-bc70-dd49c90f9fca",
   "metadata": {},
   "source": [
    "### The filtering and sampling"
   ]
  },
  {
   "cell_type": "code",
   "execution_count": 4,
   "id": "ed0779ec-0c78-4eff-8bb2-cc040297db7f",
   "metadata": {},
   "outputs": [
    {
     "name": "stdout",
     "output_type": "stream",
     "text": [
      "/home/jovyan/decay/decay/samples/ds2to11/cds_local.max.101n/adaptive_filtered_reads_test.bam\n"
     ]
    }
   ],
   "source": [
    "if train_or_test == 'train':\n",
    "    bam_path = home_path + '/decay/decay/samples/{}/reads_no_chr1.bam'.format(dataset_name)\n",
    "    # bam_path = home_path + '/decay/decay/samples/{}/coding_filtered_train.bam'.format(dataset_name)\n",
    "if train_or_test == 'test':\n",
    "    bam_path = home_path + '/decay/decay/samples/{}/reads_chr1.bam'.format(dataset_name)\n",
    "    # bam_path = home_path + '/decay/decay/samples/{}/coding_filtered_test.bam'.format(dataset_name)\n",
    "\n",
    "additional_paths = []\n",
    "if MERGE_DATASETS:\n",
    "    for i in additional_ds_names:\n",
    "        if train_or_test == 'train':\n",
    "            additional_paths.append(home_path + '/decay/decay/samples/{}/reads_no_chr1.bam'.format(i))\n",
    "            # bam_path = home_path + '/decay/decay/samples/{}/coding_filtered_train.bam'.format(dataset_name)\n",
    "        if train_or_test == 'test':\n",
    "            additional_paths.append(home_path + '/decay/decay/samples/{}/reads_chr1.bam'.format(i))\n",
    "            # bam_path = home_path + '/decay/decay/samples/{}/coding_filtered_test.bam'.format(dataset_name)\n",
    "    \n",
    "if MERGE_DATASETS:\n",
    "    out_bam_path = home_path + '/decay/decay/samples/{}/{}/adaptive_filtered_reads_{}.bam'.format(merge_ds_name, version, train_or_test)\n",
    "    out_bam_sorted_path = home_path + '/decay/decay/samples/{}/{}/adaptive_filtered_reads_{}.sorted.bam'.format(merge_ds_name, version, train_or_test)\n",
    "else:\n",
    "    out_bam_path = home_path + '/decay/decay/samples/{}/{}/adaptive_filtered_reads_{}.bam'.format(dataset_name, version, train_or_test)\n",
    "    out_bam_sorted_path = home_path + '/decay/decay/samples/{}/{}/adaptive_filtered_reads_{}.sorted.bam'.format(dataset_name, version, train_or_test)\n",
    "\n",
    "\n",
    "    \n",
    "# bam_path = [home_path + '/decay/decay/samples/hsa.dRNASeq.HeLa.polyA.REL5.long.1/reads.1.sanitize.noribo.toTranscriptome.sorted.bam',\n",
    "            # home_path + '/decay/decay/samples/hsa.dRNASeq.HeLa.polyA.REL5.long.1/filtered.bam']\n",
    "annotation_path = home_path + '/decay/decay/data/annotation.gtf'\n",
    "# annotation_path = home_path + '/decay/decay/data/Homo_sapiens.GRCh38.109.gtf' \n",
    "\n",
    "print(out_bam_path)"
   ]
  },
  {
   "cell_type": "code",
   "execution_count": 5,
   "id": "054a0df4-66d5-4d20-99db-2a3b322a2564",
   "metadata": {},
   "outputs": [
    {
     "data": {
      "text/plain": [
       "['/home/jovyan/decay/decay/samples/hsa.dRNASeq.HeLa.polyA.REL5.long.3/reads_chr1.bam',\n",
       " '/home/jovyan/decay/decay/samples/hsa.dRNASeq.HeLa.polyA.REL5.long.4/reads_chr1.bam',\n",
       " '/home/jovyan/decay/decay/samples/hsa.dRNASeq.HeLa.polyA.REL5.long.5/reads_chr1.bam',\n",
       " '/home/jovyan/decay/decay/samples/hsa.dRNASeq.HeLa.polyA.REL5.long.6/reads_chr1.bam',\n",
       " '/home/jovyan/decay/decay/samples/hsa.dRNASeq.HeLa.polyA.REL5.long.7/reads_chr1.bam',\n",
       " '/home/jovyan/decay/decay/samples/hsa.dRNASeq.HeLa.polyA.REL5.long.8/reads_chr1.bam',\n",
       " '/home/jovyan/decay/decay/samples/hsa.dRNASeq.HeLa.polyA.REL5.long.9/reads_chr1.bam',\n",
       " '/home/jovyan/decay/decay/samples/hsa.dRNASeq.HeLa.polyA.REL5.long.10/reads_chr1.bam',\n",
       " '/home/jovyan/decay/decay/samples/hsa.dRNASeq.HeLa.polyA.REL5.long.11/reads_chr1.bam']"
      ]
     },
     "execution_count": 5,
     "metadata": {},
     "output_type": "execute_result"
    }
   ],
   "source": [
    "additional_paths"
   ]
  },
  {
   "cell_type": "code",
   "execution_count": 6,
   "id": "79ce7051-2f95-4e68-be56-667799170afb",
   "metadata": {},
   "outputs": [],
   "source": [
    "if MERGE_DATASETS:\n",
    "    merged_dataset_path = home_path + '/decay/decay/samples/{}/'.format(merge_ds_name)\n",
    "    \n",
    "    if train_or_test == 'train':\n",
    "        merged_path = merged_dataset_path + 'reads_no_chr1.bam'\n",
    "    elif train_or_test == 'test':\n",
    "        merged_path = merged_dataset_path + 'reads_chr1.bam'\n",
    "    \n",
    "    if not os.path.exists(merged_path):\n",
    "        if not os.path.exists(merged_dataset_path):\n",
    "            os.makedirs(merged_dataset_path)\n",
    "        pysam.merge('-f', merged_path, bam_path, *additional_paths)\n",
    "        # create the index\n",
    "        pysam.index(merged_path)\n",
    "    bam_path = merged_path\n",
    "    "
   ]
  },
  {
   "cell_type": "code",
   "execution_count": 7,
   "id": "3dc5f57a-90f9-49b2-a783-17a13cdec73e",
   "metadata": {},
   "outputs": [
    {
     "name": "stdout",
     "output_type": "stream",
     "text": [
      "Annotation path exists\n"
     ]
    }
   ],
   "source": [
    "\n",
    "# create a database from GFF3 file\n",
    "# db = gffutils.create_db('genes.gff3', 'genes.db')\n",
    "\n",
    "# create a database from the GTF file\n",
    "\n",
    "# dbfn = home_path + '/decay/decay/data/Homo_sapiens.GRCh38.109.db'\n",
    "dbfn = 'annotations.db'\n",
    "if os.path.exists(annotation_path):\n",
    "    print('Annotation path exists')\n",
    "\n",
    "if not os.path.exists(dbfn):\n",
    "    print('creating db')\n",
    "    # create a database if it doesn't exist\n",
    "    db = gffutils.create_db(annotation_path, dbfn=dbfn, force=True, keep_order=True, \n",
    "                            merge_strategy='merge', sort_attribute_values=True)\n",
    "else:\n",
    "    # otherwise, re-use the existing database\n",
    "    db = gffutils.FeatureDB(dbfn)\n"
   ]
  },
  {
   "cell_type": "code",
   "execution_count": 8,
   "id": "5773c56e-a0e2-47b3-9166-1edcba91c74b",
   "metadata": {},
   "outputs": [
    {
     "name": "stdout",
     "output_type": "stream",
     "text": [
      "CDS\n",
      "exon\n",
      "start_codon\n",
      "stop_codon\n",
      "transcript\n"
     ]
    }
   ],
   "source": [
    "# Print all feature types\n",
    "for feature_type in db.featuretypes():\n",
    "    print(feature_type)"
   ]
  },
  {
   "cell_type": "code",
   "execution_count": 9,
   "id": "4b9093e4-f116-458e-86da-505b3602943a",
   "metadata": {},
   "outputs": [],
   "source": [
    "bam = pysam.AlignmentFile(bam_path, 'rb')"
   ]
  },
  {
   "cell_type": "code",
   "execution_count": 10,
   "id": "78f57fda-7780-4ee5-aeca-6df9ba59fd60",
   "metadata": {},
   "outputs": [],
   "source": [
    "gtf_transcript_ids = []\n",
    "for transcript in db.features_of_type('transcript'):\n",
    "    gtf_transcript_ids.append(transcript.attributes['transcript_id'][0].split('.')[0])"
   ]
  },
  {
   "cell_type": "code",
   "execution_count": 11,
   "id": "5547c1ab-e098-410e-b872-0c9e0c5cc78c",
   "metadata": {},
   "outputs": [],
   "source": [
    "z = set(bam.references).intersection(set(gtf_transcript_ids))"
   ]
  },
  {
   "cell_type": "code",
   "execution_count": 12,
   "id": "bcd82f23-0927-4743-a05b-c754378fded3",
   "metadata": {},
   "outputs": [
    {
     "name": "stdout",
     "output_type": "stream",
     "text": [
      "273857\n",
      "6143\n",
      "6143\n",
      "0  of transcript names were not found in transcript\n"
     ]
    }
   ],
   "source": [
    "# TODO fix - some bam.references are not occur in the transcript\n",
    "print(len(set(gtf_transcript_ids)))\n",
    "print(len(set(bam.references)))\n",
    "print(len(z))\n",
    "print(len(bam.references) - len(z), ' of transcript names were not found in transcript')"
   ]
  },
  {
   "cell_type": "code",
   "execution_count": 19,
   "id": "beadc213-6cf4-4611-869d-c67fa2986662",
   "metadata": {},
   "outputs": [
    {
     "name": "stdout",
     "output_type": "stream",
     "text": [
      "['ENST00000257100', 'ENST00000372084', 'ENST00000281087', 'ENST00000369638', 'ENST00000368005', 'ENST00000366607', 'ENST00000641117', 'ENST00000538610', 'ENST00000361631', 'ENST00000424044'] 3750\n"
     ]
    }
   ],
   "source": [
    "# Create a list to store references with at least one mapped read\n",
    "references_with_reads = []\n",
    "references_without_reads = []\n",
    "\n",
    "# Iterate over each reference sequence\n",
    "for ref in bam.references:\n",
    "    try:\n",
    "        # Attempt to fetch the first read aligned to this reference sequence\n",
    "        read = next(bam.fetch(ref))\n",
    "        \n",
    "        # If we've made it this far without an exception, there must be at least one read\n",
    "        references_with_reads.append(ref)\n",
    "    except StopIteration:\n",
    "        # No reads aligned to this reference\n",
    "        references_without_reads.append(ref)\n",
    "        pass\n",
    "\n",
    "print(references_with_reads[:10], len(references_with_reads))"
   ]
  },
  {
   "cell_type": "code",
   "execution_count": 20,
   "id": "155d00b5-21b6-4daf-be07-e99cef974ec3",
   "metadata": {},
   "outputs": [
    {
     "name": "stdout",
     "output_type": "stream",
     "text": [
      "273857\n",
      "3750\n",
      "3750\n",
      "0  of transcript names were not found in annotation\n"
     ]
    }
   ],
   "source": [
    "intersect = set(references_with_reads).intersection(set(gtf_transcript_ids))\n",
    "print(len(set(gtf_transcript_ids)))\n",
    "print(len(set(references_with_reads)))\n",
    "print(len(intersect))\n",
    "print(len(references_with_reads) - len(intersect), ' of transcript names were not found in annotation')"
   ]
  },
  {
   "cell_type": "code",
   "execution_count": 21,
   "id": "713f7574-f606-4ba1-8018-42a2bb85d163",
   "metadata": {},
   "outputs": [],
   "source": [
    "bam.close()"
   ]
  },
  {
   "cell_type": "markdown",
   "id": "6d99421e-8918-4dbd-b667-ec0ecdbe02d5",
   "metadata": {},
   "source": [
    "print(sorted(chromosomes)[:10])\n",
    "\n",
    "['chr1', 'chr10', 'chr10_GL383545v1_alt', 'chr10_GL383546v1_alt', 'chr10_KI270824v1_alt', 'chr10_KI270825v1_alt', 'chr10_KN196480v1_fix', 'chr10_KQ090021v1_fix', 'chr10_ML143354v1_fix', 'chr10_ML143355v1_fix']"
   ]
  },
  {
   "cell_type": "code",
   "execution_count": 26,
   "id": "d5f2f51d-c0f8-4bfa-8858-c5a2d5960ddb",
   "metadata": {
    "tags": []
   },
   "outputs": [
    {
     "name": "stdout",
     "output_type": "stream",
     "text": [
      "1000 |2000 |3000 |4000 |5000 |6000 |7000 |8000 |9000 |10000 |11000 |12000 |13000 |14000 |15000 |16000 |17000 |18000 |19000 |20000 |21000 |22000 |23000 |24000 |25000 |26000 |27000 |28000 |29000 |30000 |31000 |32000 |33000 |34000 |35000 |36000 |37000 |38000 |39000 |40000 |41000 |42000 |43000 |44000 |45000 |46000 |47000 |48000 |49000 |50000 |51000 |52000 |53000 |54000 |55000 |56000 |57000 |58000 |59000 |60000 |61000 |62000 |63000 |64000 |65000 |66000 |67000 |68000 |69000 |70000 |71000 |72000 |73000 |74000 |75000 |76000 |77000 |78000 |79000 |80000 |81000 |82000 |83000 |84000 |85000 |86000 |87000 |88000 |89000 |90000 |91000 |92000 |93000 |94000 |95000 |96000 |97000 |98000 |99000 |100000 |101000 |102000 |103000 |104000 |105000 |106000 |107000 |108000 |109000 |110000 |111000 |112000 |113000 |114000 |115000 |116000 |117000 |118000 |119000 |120000 |121000 |122000 |123000 |124000 |125000 |126000 |127000 |128000 |129000 |130000 |131000 |132000 |133000 |134000 |135000 |136000 |137000 |138000 |139000 |140000 |141000 |142000 |143000 |144000 |145000 |146000 |147000 |148000 |149000 |150000 |151000 |152000 |153000 |154000 |155000 |156000 |157000 |158000 |159000 |160000 |161000 |162000 |163000 |164000 |165000 |166000 |167000 |168000 |169000 |170000 |171000 |172000 |173000 |174000 |175000 |176000 |177000 |178000 |179000 |180000 |181000 |182000 |183000 |184000 |185000 |186000 |187000 |188000 |189000 |190000 |191000 |192000 |193000 |194000 |195000 |196000 |197000 |198000 |199000 |200000 |201000 |202000 |203000 |204000 |205000 |206000 |207000 |208000 |209000 |210000 |211000 |212000 |213000 |214000 |215000 |216000 |217000 |218000 |219000 |220000 |221000 |222000 |223000 |224000 |225000 |226000 |227000 |228000 |229000 |230000 |231000 |232000 |233000 |234000 |235000 |236000 |237000 |238000 |239000 |240000 |241000 |242000 |243000 |244000 |245000 |246000 |247000 |248000 |249000 |250000 |251000 |252000 |253000 |254000 |255000 |256000 |257000 |258000 |259000 |260000 |261000 |262000 |263000 |264000 |265000 |266000 |267000 |268000 |269000 |270000 |271000 |272000 |273000 |"
     ]
    }
   ],
   "source": [
    "from pathlib import Path\n",
    "from pybedtools import BedTool\n",
    "import pandas as pd\n",
    "from math import ceil\n",
    "\n",
    "\n",
    "# Open the BAM file\n",
    "bam = pysam.AlignmentFile(bam_path, 'rb')\n",
    "\n",
    "# # Load the GTF/GFF database\n",
    "# dbfn = 'annotations.db'\n",
    "# db = gffutils.FeatureDB(dbfn)\n",
    "db = gffutils.FeatureDB(dbfn)\n",
    "\n",
    "# Create a new BAM file for output\n",
    "# print(os.path.dirname(out_bam_path))\n",
    "Path(out_bam_path).parents[0].mkdir(parents=True, exist_ok=True)\n",
    "out_bam = pysam.AlignmentFile(out_bam_path, 'wb', header=bam.header)\n",
    "\n",
    "# Set radius\n",
    "# TODO try for radius=2 and values for in range(2,5)\n",
    "# region_smoothing_radius = 5\n",
    "region_smoothing_radius = 3\n",
    "local_max_radius = 3\n",
    "\n",
    "# TODO set threshold further in the code, it is set based on transcript length and number of reads\n",
    "# threshold_percentile = 0.001\n",
    "SAMPLE_LOCAL_MAX = True\n",
    "transcript_not_in_cds = []\n",
    "\n",
    "# Load the coding regions\n",
    "# coding_regions = BedTool('../get_fasta/run/genic_elements.cds.bed')\n",
    "# Load the BED file into a pandas DataFrame\n",
    "df = pd.read_csv('../get_fasta/run/genic_elements.cds.bed', sep='\\t', header=None, names=['seqname', 'start', 'end', 'name', 'score', 'strand'])\n",
    "\n",
    "i = 0\n",
    "    \n",
    "transcript_to_read_number = {}\n",
    "# Iterate over each transcript\n",
    "# TODO try iterate through bam.references cos there are some transcript names missing in the annotation (see code few cells above)\n",
    "# for transcript in bam.references: .... and transcript_id = transcript ??\n",
    "\n",
    "for transcript in db.features_of_type('transcript'):\n",
    "    \n",
    "    # Fetch all reads that overlap with this transcript\n",
    "    # reads = bam.fetch(transcript.seqid, transcript.start, transcript.end)\n",
    "    transcript_id = transcript.attributes['transcript_id'][0]\n",
    "    # print(transcript_id)\n",
    "    transcript_id = transcript_id.split('.')[0]\n",
    "    # print(transcript_id)\n",
    "    reads = None\n",
    "    try:\n",
    "        # Fetch all reads that overlap with this transcript using the transcript_id attribute\n",
    "        # TODO why adding transcript.start and transcript.end to fetch() args results in no reads found?\n",
    "        # reads = bam.fetch(transcript_id, transcript.start, transcript.end)\n",
    "        reads = bam.fetch(transcript_id)\n",
    "    except:\n",
    "        pass\n",
    "    \n",
    "    i += 1\n",
    "    if i % 1000 == 0:\n",
    "        print(i, end=' |')\n",
    "        \n",
    "    reads_mapped = 0\n",
    "    \n",
    "    if reads:\n",
    "        # Store count of reads starting at each position\n",
    "        read_starts = {}\n",
    "        # Store if read_start was already sampled\n",
    "        is_read_start_sampled = {}\n",
    "\n",
    "        # List of reads for this transcript\n",
    "        transcript_reads = list(reads)\n",
    "            \n",
    "            \n",
    "        # Filter: keep only reads that start in coding regions (CDS)\n",
    "        try:\n",
    "            transcript_cds = df[df['seqname'] == transcript_id]\n",
    "\n",
    "            cds_start = transcript_cds['start'].values[0]\n",
    "            cds_end = transcript_cds['end'].values[0]\n",
    "            cds_strand = transcript_cds['strand'].values[0]\n",
    "        except:\n",
    "            transcript_not_in_cds.append(transcript_id)\n",
    "            # TODO quick fix for now if the transcript is not in the CDS bed file\n",
    "            # set a \"guess\" value for `start` and `end` and `strand` the same as in the read\n",
    "            cds_start = 200\n",
    "            cds_end = 9999\n",
    "            cds_strand = None\n",
    "\n",
    "        mapping_length = cds_end - cds_start\n",
    "\n",
    "        for read in transcript_reads:\n",
    "            start = read.reference_start\n",
    "            strand = '-' if read.is_reverse else '+'\n",
    "\n",
    "            # TODO quick fix for now if the transcript is not in the CDS bed file\n",
    "            cds_strand = strand if cds_strand == None else cds_strand\n",
    "\n",
    "            # Check if the start position of the read is within a coding region\n",
    "            if ((start >= cds_start)\n",
    "                and (start <= cds_end) \n",
    "                and (strand == cds_strand)):\n",
    "                # Increment count of reads starting at this position\n",
    "                read_starts.setdefault(read.reference_start, 0)\n",
    "                read_starts[read.reference_start] += 1\n",
    "\n",
    "                is_read_start_sampled.setdefault(read.reference_start, False)\n",
    "                is_read_start_sampled[read.reference_start] = False\n",
    "\n",
    "                reads_mapped += 1\n",
    "                \n",
    "\n",
    "\n",
    "        # print(any(is_read_start_sampled.values()))\n",
    "\n",
    "        # Threshold for read-starts in region\n",
    "        # threshold = max(2, int(threshold_percentile * reads_mapped))\n",
    "        threshold = max(2, int(ceil(reads_mapped / mapping_length)))\n",
    "\n",
    "        transcript_to_read_number[transcript_id] = {\n",
    "            'reads_mapped': reads_mapped,\n",
    "            'reads_left': -1,\n",
    "            'read_starts': [],\n",
    "            'densities': [],\n",
    "            'position_count': [],\n",
    "            'read_starts_sampled': [],\n",
    "            'threshold': threshold,\n",
    "            'mapping_length': mapping_length,\n",
    "        }\n",
    "\n",
    "        \n",
    "        reads_left = 0\n",
    "        count = 0\n",
    "        \n",
    "        # Iterate over all reads again to sample local maximas\n",
    "        for read in transcript_reads:                    \n",
    "            # Count read-starts in region\n",
    "            count = sum(read_starts.get(pos, 0) for pos in range(read.reference_start - region_smoothing_radius, read.reference_start + region_smoothing_radius + 1))\n",
    "            \n",
    "            # Count read-starts in this read's start position (for statistics)\n",
    "            position_count = read_starts.get(read.reference_start, 0)\n",
    "\n",
    "            # Write read to new BAM file if count is above threshold\n",
    "            if count >= threshold:    \n",
    "                # sample only local max to out_bam file\n",
    "                if SAMPLE_LOCAL_MAX:\n",
    "                    reads_at_index = read_starts.get(read.reference_start, 0)\n",
    "                    condition = (\n",
    "                        not is_read_start_sampled.get(read.reference_start, False)\n",
    "                        and read_starts.get(read.reference_start - local_max_radius, 0) < reads_at_index\n",
    "                        and read_starts.get(read.reference_start + local_max_radius, 0) < reads_at_index\n",
    "                    )\n",
    "                    if condition:\n",
    "                        # TODO invalidate all decreasing reads to the right ?\n",
    "                        out_bam.write(read)\n",
    "                        reads_left += 1\n",
    "                        transcript_to_read_number[transcript_id]['read_starts_sampled'].append(read.reference_start)\n",
    "                        # invalidate this read_start cos now it already has been sampled\n",
    "                        is_read_start_sampled[read.reference_start] = True\n",
    "                    else:\n",
    "                        pass\n",
    "                else:\n",
    "                    out_bam.write(read)\n",
    "                    reads_left += 1\n",
    "                \n",
    "            # collect statistics\n",
    "            transcript_to_read_number[transcript_id]['read_starts'].append(read.reference_start)\n",
    "            transcript_to_read_number[transcript_id]['densities'].append(count)\n",
    "            transcript_to_read_number[transcript_id]['position_count'].append(position_count)\n",
    "\n",
    "            \n",
    "        transcript_to_read_number[transcript_id]['reads_left'] = reads_left\n",
    "        \n",
    "        # transcript_to_read_number[transcript_id] = {\n",
    "        #     'reads_mapped': len(transcript_reads),\n",
    "        #     'reads_left': reads_left\n",
    "        # }\n",
    "\n",
    "# Close the BAM files\n",
    "bam.close()\n",
    "out_bam.close()"
   ]
  },
  {
   "cell_type": "code",
   "execution_count": 28,
   "id": "4c5038d6-8b7e-4889-9f81-eb1d40562b3b",
   "metadata": {},
   "outputs": [
    {
     "data": {
      "text/plain": [
       "65062"
      ]
     },
     "execution_count": 28,
     "metadata": {},
     "output_type": "execute_result"
    }
   ],
   "source": [
    "len(transcript_to_read_number)"
   ]
  },
  {
   "cell_type": "code",
   "execution_count": 22,
   "id": "24a65c77-a605-4d14-b291-ec9ade46fb50",
   "metadata": {},
   "outputs": [
    {
     "ename": "NameError",
     "evalue": "name 'transcript_not_in_cds' is not defined",
     "output_type": "error",
     "traceback": [
      "\u001b[0;31m---------------------------------------------------------------------------\u001b[0m",
      "\u001b[0;31mNameError\u001b[0m                                 Traceback (most recent call last)",
      "Cell \u001b[0;32mIn[22], line 1\u001b[0m\n\u001b[0;32m----> 1\u001b[0m \u001b[38;5;28mlen\u001b[39m(\u001b[43mtranscript_not_in_cds\u001b[49m)\n",
      "\u001b[0;31mNameError\u001b[0m: name 'transcript_not_in_cds' is not defined"
     ]
    }
   ],
   "source": [
    "len(transcript_not_in_cds)"
   ]
  },
  {
   "cell_type": "code",
   "execution_count": 29,
   "id": "b9279e7e-712b-4e00-869b-9ad9c6696aee",
   "metadata": {},
   "outputs": [
    {
     "name": "stdout",
     "output_type": "stream",
     "text": [
      "671\n"
     ]
    }
   ],
   "source": [
    "i = 0\n",
    "more_than_one_read = {}\n",
    "\n",
    "for transcript_id, value in transcript_to_read_number.items():\n",
    "    # if value['reads_mapped'] > 5000:\n",
    "    #     print('high ', transcript_id)\n",
    "    #     print('reads_mapped ', value['reads_mapped'])\n",
    "    #     print('reads_left ', value['reads_left'])\n",
    "    # if value['reads_mapped'] > 1000 and value['reads_mapped'] < 3000:\n",
    "    #     print('medium ', transcript_id)\n",
    "    #     print('reads_mapped ', value['reads_mapped'])\n",
    "    #     print('reads_left ', value['reads_left'])\n",
    "    # if value['reads_mapped'] < 500:\n",
    "    #     print('low ', transcript_id)\n",
    "    #     print('reads_mapped ', value['reads_mapped'])\n",
    "    #     print('reads_left ', value['reads_left'])\n",
    "    if value['reads_left'] > 0:\n",
    "        more_than_one_read[transcript_id] = value\n",
    "    \n",
    "    # i+=1\n",
    "    # if i > 1000:\n",
    "    #     break\n",
    "print(len(more_than_one_read))"
   ]
  },
  {
   "cell_type": "markdown",
   "id": "4d07d9ec-8655-4606-9d97-27f48620aecc",
   "metadata": {},
   "source": [
    "### Plot filtering effects"
   ]
  },
  {
   "cell_type": "code",
   "execution_count": 30,
   "id": "7fe1e28c-e7ab-464b-90d3-a8778af89d24",
   "metadata": {},
   "outputs": [
    {
     "data": {
      "text/plain": [
       "''"
      ]
     },
     "execution_count": 30,
     "metadata": {},
     "output_type": "execute_result"
    }
   ],
   "source": [
    "# sort the BAM file\n",
    "pysam.sort(\"-o\", out_bam_sorted_path, out_bam_path)\n",
    "\n",
    "# create the index\n",
    "pysam.index(out_bam_sorted_path)\n"
   ]
  },
  {
   "cell_type": "code",
   "execution_count": 31,
   "id": "9ee64033-40d7-4f2f-8cc0-cb11d9075e8e",
   "metadata": {},
   "outputs": [
    {
     "name": "stdout",
     "output_type": "stream",
     "text": [
      "Old number of reads:  131552\n"
     ]
    }
   ],
   "source": [
    "count = [0, 0]\n",
    "\n",
    "bam_tmp = pysam.AlignmentFile(bam_path, 'rb')\n",
    "for read in bam_tmp.fetch():\n",
    "    count[0] += 1\n",
    "\n",
    "print(\"Old number of reads: \", count[0])\n",
    "bam_tmp.close()"
   ]
  },
  {
   "cell_type": "code",
   "execution_count": 32,
   "id": "0feb154a-153a-4498-beb9-3673bbc3a5fe",
   "metadata": {},
   "outputs": [
    {
     "name": "stdout",
     "output_type": "stream",
     "text": [
      "New number of reads:  8085\n"
     ]
    }
   ],
   "source": [
    "bam_tmp = pysam.AlignmentFile(out_bam_sorted_path, 'rb')\n",
    "for read in bam_tmp.fetch():\n",
    "    count[1] += 1\n",
    "\n",
    "print(\"New number of reads: \", count[1])\n",
    "bam_tmp.close()"
   ]
  },
  {
   "cell_type": "code",
   "execution_count": 33,
   "id": "1fe15f68-054f-47a1-b82c-36c1258a25a5",
   "metadata": {},
   "outputs": [
    {
     "data": {
      "text/plain": [
       "0.061458586718559964"
      ]
     },
     "execution_count": 33,
     "metadata": {},
     "output_type": "execute_result"
    }
   ],
   "source": [
    "count[1]/count[0]"
   ]
  },
  {
   "cell_type": "code",
   "execution_count": 34,
   "id": "dc69e7a0-8857-47b0-9a1e-a477b826a18a",
   "metadata": {},
   "outputs": [],
   "source": [
    "exit \"here do not plon\""
   ]
  },
  {
   "cell_type": "code",
   "execution_count": 35,
   "id": "e8c33285-9a0f-4d9a-8203-edbf446eeb43",
   "metadata": {},
   "outputs": [],
   "source": [
    "import matplotlib.pyplot as plt\n",
    "\n",
    "def plot_dif(transcript, plot_threshold, zoom = None, read_starts_sampled = []):\n",
    "    # percentage = 0.05\n",
    "    # plot_threshold = max(2, fraction * transcript_to_read_number[transcript]['reads_mapped'])\n",
    "    print('plot_threshold ', plot_threshold)\n",
    "\n",
    "    densities = transcript_to_read_number[transcript]['densities']\n",
    "    position_counts = transcript_to_read_number[transcript]['position_count']\n",
    "\n",
    "    # filtered_read_starts = [x for x in index, x in enumerate(transcript_to_read_number['ENST00000000233']['read_starts']) if densities[index] > plot_threshold]\n",
    "    # filtered_read_densities = [plot_threshold * x for x in sequence if condition]\n",
    "\n",
    "    filtered_read_starts = []\n",
    "    filtered_read_counts = []\n",
    "    reads_left = 0\n",
    "\n",
    "    for index, read_start in enumerate(transcript_to_read_number[transcript]['read_starts']):\n",
    "        if densities[index] > plot_threshold:\n",
    "            filtered_read_starts.append(read_start)\n",
    "            filtered_read_counts.append(position_counts[index])\n",
    "            reads_left += 1\n",
    "        else:\n",
    "            filtered_read_starts.append(read_start)\n",
    "            filtered_read_counts.append(0)\n",
    "\n",
    "    percentage_reads_left = round(reads_left/transcript_to_read_number[transcript]['reads_mapped'] *100, 2)\n",
    "    print(\"{} % of reads stayed\".format(percentage_reads_left))\n",
    "\n",
    "    # plt.plot()\n",
    "    # plt.scatter()\n",
    "    plt.plot(\n",
    "        transcript_to_read_number[transcript]['read_starts'], \n",
    "        transcript_to_read_number[transcript]['position_count'],\n",
    "        'm-',\n",
    "        label = \"original\"\n",
    "    )\n",
    "    plt.plot(\n",
    "        filtered_read_starts, \n",
    "        filtered_read_counts,\n",
    "        'g:',\n",
    "        label = \"filtered: {} threshold\".format(plot_threshold)\n",
    "    )\n",
    "    if read_starts_sampled != []:\n",
    "        plt.plot(\n",
    "            read_starts_sampled, \n",
    "            read_starts_sampled,\n",
    "            'r',\n",
    "            label = \"sampled\"\n",
    "        )\n",
    "    ax = plt.gca()\n",
    "    # ax.set_xlim([xmin, xmax])\n",
    "    \n",
    "    #####   CHANGE \n",
    "    if zoom:\n",
    "        ax.set_xlim([zoom[0], zoom[1]])\n",
    "    # ax.set_ylim([0, 200])\n",
    "    plt.legend()\n",
    "    plt.show()"
   ]
  },
  {
   "cell_type": "code",
   "execution_count": 52,
   "id": "1dae6017-a8f1-4923-8481-35177561ece1",
   "metadata": {},
   "outputs": [
    {
     "name": "stdout",
     "output_type": "stream",
     "text": [
      "ENST00000234590\n",
      "5450\n",
      "ENST00000234875\n",
      "1790\n",
      "ENST00000262746\n",
      "1548\n",
      "ENST00000271638\n",
      "1039\n",
      "ENST00000319248\n",
      "1501\n",
      "ENST00000321358\n",
      "2993\n",
      "ENST00000361427\n",
      "1145\n",
      "ENST00000366815\n",
      "1203\n",
      "ENST00000367306\n",
      "1269\n",
      "ENST00000368097\n",
      "1270\n",
      "ENST00000368719\n",
      "1814\n",
      "ENST00000370321\n",
      "2396\n",
      "ENST00000374550\n",
      "3587\n",
      "ENST00000396651\n",
      "3929\n",
      "ENST00000496817\n",
      "1996\n"
     ]
    }
   ],
   "source": [
    "for trans in list(transcript_to_read_number.keys()):\n",
    "    if len(transcript_to_read_number[trans]['read_starts']) > 1000:\n",
    "        print(trans)\n",
    "        print(len(transcript_to_read_number[trans]['read_starts']))\n",
    "    "
   ]
  },
  {
   "cell_type": "code",
   "execution_count": 53,
   "id": "6ee7254b-ec79-4f37-a6e2-2cf9b8f54f8a",
   "metadata": {},
   "outputs": [],
   "source": [
    "transcripts = ['ENST00000234875', 'ENST00000271638', 'ENST00000368719', 'ENST00000396651', 'ENST00000234590']\n",
    "\n",
    "# threshold_percentile = 0.08\n",
    "# fraction = 0.001\n",
    "fraction = 0.08\n"
   ]
  },
  {
   "cell_type": "code",
   "execution_count": 54,
   "id": "ddde33f7-ea58-4e21-b139-493885d9efdb",
   "metadata": {},
   "outputs": [
    {
     "name": "stdout",
     "output_type": "stream",
     "text": [
      "reads_mapped  420\n",
      "reads_left for  2  of max:  73\n",
      "plot_threshold  2\n",
      "119.29 % of reads stayed\n"
     ]
    },
    {
     "data": {
      "image/png": "[encoded data removed]",
      "text/plain": [
       "<Figure size 640x480 with 1 Axes>"
      ]
     },
     "metadata": {},
     "output_type": "display_data"
    }
   ],
   "source": [
    "transcript = transcripts[0]\n",
    "plot_threshold = transcript_to_read_number[transcript]['threshold']\n",
    "zoom = None\n",
    "# zoom = [550, 650]\n",
    "\n",
    "\n",
    "try:\n",
    "    print('reads_mapped ', transcript_to_read_number[transcript]['reads_mapped'])\n",
    "    print('reads_left for ', threshold,' of max: ', transcript_to_read_number[transcript]['reads_left'])\n",
    "    # read_starts_sampled=transcript_to_read_number[transcript]['read_starts_sampled']\n",
    "    plot_dif(transcript, plot_threshold, zoom=zoom)\n",
    "except KeyError as e:\n",
    "    print(str(e), ' not found in transcripts')"
   ]
  },
  {
   "cell_type": "code",
   "execution_count": 55,
   "id": "14583a36-5a97-468e-83cf-3bb92bd8684b",
   "metadata": {},
   "outputs": [
    {
     "name": "stdout",
     "output_type": "stream",
     "text": [
      "622\n",
      "624\n",
      "626\n",
      "640\n",
      "659\n",
      "659\n"
     ]
    }
   ],
   "source": [
    "for i in transcript_to_read_number[transcript]['read_starts']:\n",
    "    if i > 620 and i < 660:\n",
    "        print(i)\n"
   ]
  },
  {
   "cell_type": "code",
   "execution_count": 56,
   "id": "85a0026d-95e0-400f-acca-0681453d36af",
   "metadata": {},
   "outputs": [
    {
     "name": "stdout",
     "output_type": "stream",
     "text": [
      "reads_mapped  116\n",
      "reads_left for  2  of max:  46\n",
      "plot_threshold  2\n",
      "76.72 % of reads stayed\n"
     ]
    },
    {
     "data": {
      "image/png": "[encoded data removed]",
      "text/plain": [
       "<Figure size 640x480 with 1 Axes>"
      ]
     },
     "metadata": {},
     "output_type": "display_data"
    }
   ],
   "source": [
    "transcript = transcripts[1]\n",
    "plot_threshold = transcript_to_read_number[transcript]['threshold']\n",
    "zoom = None\n",
    "# zoom = [0, 300]\n",
    "\n",
    "\n",
    "try:\n",
    "    print('reads_mapped ', transcript_to_read_number[transcript]['reads_mapped'])\n",
    "    print('reads_left for ', threshold,' of max: ', transcript_to_read_number[transcript]['reads_left'])\n",
    "    plot_dif(transcript, plot_threshold, zoom=zoom)\n",
    "except KeyError as e:\n",
    "    print(str(e), ' not found in transcripts')"
   ]
  },
  {
   "cell_type": "code",
   "execution_count": 57,
   "id": "6d84529b-e3da-4dde-a3b4-ab0f61ad3cc0",
   "metadata": {},
   "outputs": [
    {
     "name": "stdout",
     "output_type": "stream",
     "text": [
      "reads_mapped  145\n",
      "reads_left for  2  of max:  41\n",
      "plot_threshold  2\n",
      "89.66 % of reads stayed\n"
     ]
    },
    {
     "data": {
      "image/png": "[encoded data removed]",
      "text/plain": [
       "<Figure size 640x480 with 1 Axes>"
      ]
     },
     "metadata": {},
     "output_type": "display_data"
    }
   ],
   "source": [
    "transcript = transcripts[2]\n",
    "plot_threshold = transcript_to_read_number[transcript]['threshold']\n",
    "zoom = None\n",
    "# zoom = [0, 200]\n",
    "\n",
    "try:\n",
    "    print('reads_mapped ', transcript_to_read_number[transcript]['reads_mapped'])\n",
    "    print('reads_left for ', threshold,' of max: ', transcript_to_read_number[transcript]['reads_left'])\n",
    "    plot_dif(transcript, plot_threshold, zoom=zoom)\n",
    "except KeyError as e:\n",
    "    print(str(e), ' not found in transcripts')"
   ]
  },
  {
   "cell_type": "code",
   "execution_count": null,
   "id": "c43e4d19-ad15-4f20-b64c-b47712b2dcb8",
   "metadata": {},
   "outputs": [],
   "source": [
    "transcript = transcripts[3]\n",
    "plot_threshold = transcript_to_read_number[transcript]['threshold']\n",
    "zoom = None\n",
    "zoom = [0, 900]\n",
    "\n",
    "try:\n",
    "    print('reads_mapped ', transcript_to_read_number[transcript]['reads_mapped'])\n",
    "    print('reads_left for ', threshold,' of max: ', transcript_to_read_number[transcript]['reads_left'])\n",
    "    plot_dif(transcript, plot_threshold, zoom=zoom)\n",
    "except KeyError as e:\n",
    "    print(str(e), ' not found in transcripts')"
   ]
  },
  {
   "cell_type": "code",
   "execution_count": null,
   "id": "94b6cb9c-5344-4988-9f47-c07d1a482761",
   "metadata": {},
   "outputs": [],
   "source": [
    "for i in transcript_to_read_number[transcript]['read_starts']:\n",
    "    if i > 820 and i < 860:\n",
    "        print(i)\n"
   ]
  },
  {
   "cell_type": "code",
   "execution_count": null,
   "id": "56501bfd-eb7f-41a8-9390-e96f349d4a4a",
   "metadata": {},
   "outputs": [],
   "source": [
    "transcript = transcripts[4]\n",
    "plot_threshold = transcript_to_read_number[transcript]['threshold']\n",
    "zoom = None\n",
    "# zoom = [0, 200]\n",
    "\n",
    "try:\n",
    "    print('reads_mapped ', transcript_to_read_number[transcript]['reads_mapped'])\n",
    "    print('reads_left for ', plot_threshold,' of max: ', transcript_to_read_number[transcript]['reads_left'])\n",
    "    plot_dif(transcript, plot_threshold, zoom=zoom)\n",
    "except KeyError as e:\n",
    "    print(str(e), ' not found in transcripts')"
   ]
  },
  {
   "cell_type": "code",
   "execution_count": null,
   "id": "c1064fae-a1bf-46ff-afba-f70806a67b37",
   "metadata": {},
   "outputs": [],
   "source": []
  },
  {
   "cell_type": "code",
   "execution_count": null,
   "id": "bba91f2a-1b7f-497f-8354-a3de71720720",
   "metadata": {},
   "outputs": [],
   "source": []
  },
  {
   "cell_type": "code",
   "execution_count": null,
   "id": "84b2527a-4b05-4147-ab7c-ad85c0af602c",
   "metadata": {},
   "outputs": [],
   "source": [
    "exit the run"
   ]
  },
  {
   "cell_type": "code",
   "execution_count": null,
   "id": "f51f29a4-9dbe-403a-922e-fb2a73afaa2a",
   "metadata": {},
   "outputs": [],
   "source": [
    "####\n",
    "#######\n",
    "#######\n",
    "#######\n",
    "#######\n",
    "#######\n",
    "#######\n",
    "#######\n",
    "#######\n",
    "###"
   ]
  },
  {
   "cell_type": "code",
   "execution_count": null,
   "id": "d2fbdd1c-4f38-4294-b53d-b60c1147b7ce",
   "metadata": {},
   "outputs": [],
   "source": []
  }
 ],
 "metadata": {
  "kernelspec": {
   "display_name": "Python [conda env:decay_exploration]",
   "language": "python",
   "name": "conda-env-decay_exploration-py"
  },
  "language_info": {
   "codemirror_mode": {
    "name": "ipython",
    "version": 3
   },
   "file_extension": ".py",
   "mimetype": "text/x-python",
   "name": "python",
   "nbconvert_exporter": "python",
   "pygments_lexer": "ipython3",
   "version": "3.8.15"
  }
 },
 "nbformat": 4,
 "nbformat_minor": 5
}
