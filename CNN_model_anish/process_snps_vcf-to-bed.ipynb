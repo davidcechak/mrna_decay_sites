{
 "cells": [
  {
   "cell_type": "code",
   "execution_count": 1,
   "id": "a34cccd2-961a-4efe-a8a6-b62c79044413",
   "metadata": {},
   "outputs": [],
   "source": [
    "# https://ftp.ncbi.nih.gov/snp/organisms/human_9606_b151_GRCh38p7/VCF/\n",
    "# https://ftp.ncbi.nlm.nih.gov/pub/clinvar/vcf_GRCh38/\n",
    "\n",
    "# README https://www.ncbi.nlm.nih.gov/variation/docs/human_variation_vcf/"
   ]
  },
  {
   "cell_type": "markdown",
   "id": "ca25411e-5a0e-404a-a9a9-6eafb169fe9f",
   "metadata": {},
   "source": [
    "### Set up parameters"
   ]
  },
  {
   "cell_type": "code",
   "execution_count": 2,
   "id": "509d9320-31f4-4366-807d-2e62d112acfc",
   "metadata": {},
   "outputs": [],
   "source": [
    "# !gzip -dk \"../data/clinvar.vcf.gz\"\n",
    "# !gzip -dk \"../data/00-All.vcf.gz\""
   ]
  },
  {
   "cell_type": "code",
   "execution_count": 21,
   "id": "97f94cda-7b05-4ae1-ab85-8e0bf571ca8c",
   "metadata": {},
   "outputs": [],
   "source": [
    "# vcf_path = \"../data/00-common_all.vcf.gz\"\n",
    "# vcf_path = \"../data/00-common_all.vcf\"\n",
    "vcf_path = \"../data/clinvar.vcf\"\n",
    "# vcf_path = \"../data/00-All.vcf\"\n",
    "\n",
    "# output_name = \"output_snps\" \n",
    "output_name = 'output_clinvar_snps'\n",
    "# output_name = 'output_all_snps'\n",
    "\n",
    "vcf_dataframe_path = \"../data/clinvar.pkl\"\n",
    "\n",
    "snps_subset = None\n",
    "# snps_subset = 100\n",
    "\n",
    "if snps_subset != None:\n",
    "    output_bed_path = \"../per_RBP_BED/\" + output_name + \"SMALL\" + \".bed\"  # Path to the output BED file\n",
    "else:\n",
    "    output_bed_path = \"../per_RBP_BED/\" + output_name + \".bed\"  # Path to the output BED file\n"
   ]
  },
  {
   "cell_type": "markdown",
   "id": "51734a2c-c86d-42c2-b2d1-e23cacc31982",
   "metadata": {},
   "source": [
    "### Definiton of methods"
   ]
  },
  {
   "cell_type": "code",
   "execution_count": 4,
   "id": "20f37b28-e63e-41be-ac5e-ea2cba70b53d",
   "metadata": {},
   "outputs": [],
   "source": [
    "\n",
    "# Load the dataset\n",
    "# df = pd.read_csv('../data/gwas-catalog-v1.0.3-studies-r2023-08-26.tsv', sep='\\t', nrows=10)  # Adjust the separator if needed\n",
    "# df.columns\n",
    "\n",
    "# print(df['CHR_ID'])\n",
    "# print(df['CHR_POS'])\n",
    "# print(df['SNPS'])\n",
    "# print(df['STRONGEST SNP-RISK ALLELE'])\n",
    "# print(df['CONTEXT'])"
   ]
  },
  {
   "cell_type": "code",
   "execution_count": 5,
   "id": "82e60783-aa5d-459e-951b-97ff0c057a9a",
   "metadata": {},
   "outputs": [],
   "source": [
    "import pysam\n",
    "\n",
    "# Load the VCF file\n",
    "vcf_file = pysam.VariantFile(vcf_path)\n",
    "\n",
    "# Get the chromosome names\n",
    "# vcf_chromosomes = list(vcf_file.header.contigs.keys())"
   ]
  },
  {
   "cell_type": "code",
   "execution_count": 9,
   "id": "674430cf-07c2-4e16-a551-361a06d1035d",
   "metadata": {},
   "outputs": [
    {
     "name": "stdout",
     "output_type": "stream",
     "text": [
      "['CHROM', 'POS', 'ID', 'REF', 'ALT', 'QUAL', 'FILTER', 'INFO']\n"
     ]
    }
   ],
   "source": [
    "import pandas as pd\n",
    "\n",
    "def vcf_to_pandas(file_path, num_data_lines=None):\n",
    "    header=None\n",
    "    lines = []\n",
    "    with open(file_path, 'r') as vcf_file:\n",
    "        for line in vcf_file:\n",
    "            # If the line is a header line, print it\n",
    "            if line.startswith(\"#\"):\n",
    "                line_striped = line.strip('#')\n",
    "                if not line_striped.startswith('INFO'):\n",
    "                    if not '=' in line_striped:\n",
    "                        # print(line_striped)\n",
    "                        header = line_striped.replace('\\n','').split('\\t')\n",
    "            # If the line is a data line, print up to the specified number of data lines\n",
    "            else:\n",
    "                if num_data_lines == None:\n",
    "                    lines.append(line.split('\\t'))\n",
    "                else:\n",
    "                    if num_data_lines > 0:\n",
    "                        # print(line)\n",
    "                        lines.append(line.split('\\t'))\n",
    "                        num_data_lines -= 1\n",
    "                    else:\n",
    "                        break\n",
    "    print(header)\n",
    "    # _ = [print(x) for x in lines]\n",
    "    return pd.DataFrame(lines, columns=header)\n",
    "\n",
    "cvf_df = vcf_to_pandas(vcf_path)\n"
   ]
  },
  {
   "cell_type": "code",
   "execution_count": 22,
   "id": "5e35c717-b46b-4597-ac96-98a820bf8a12",
   "metadata": {},
   "outputs": [],
   "source": [
    "cvf_df.to_pickle(vcf_dataframe_path)"
   ]
  },
  {
   "cell_type": "code",
   "execution_count": 23,
   "id": "1773d6d1-6707-40c7-8aa3-1cac6707d50b",
   "metadata": {},
   "outputs": [
    {
     "name": "stdout",
     "output_type": "stream",
     "text": [
      "Number of records in the VCF file: 2256164\n"
     ]
    }
   ],
   "source": [
    "def count_records_in_vcf(vcf_path):\n",
    "    count = 0\n",
    "    with open(vcf_path, 'r') as vcf_file:\n",
    "        for line in vcf_file:\n",
    "            if not line.startswith(\"#\"):\n",
    "                count += 1\n",
    "    return count\n",
    "\n",
    "num_records = count_records_in_vcf(vcf_path)\n",
    "print(f\"Number of records in the VCF file: {num_records}\")"
   ]
  },
  {
   "cell_type": "code",
   "execution_count": 24,
   "id": "b1530700-615c-4913-910c-bffc7c99a28c",
   "metadata": {},
   "outputs": [],
   "source": [
    "# basic SNP genomic coordinates extraction \n",
    "\n",
    "def extract_snps_regions(vcf_path, bed_path, subset=None, flank_length=200):\n",
    "    i = 0\n",
    "    with open(vcf_path, 'r') as vcf_file, open(bed_path, 'w') as bed_file:\n",
    "        for line in vcf_file:\n",
    "            if not line.startswith(\"#\"):  # Ignore header lines\n",
    "                columns = line.strip().split('\\t')\n",
    "                chrom = 'chr' + columns[0]\n",
    "                pos = int(columns[1])\n",
    "                ref = columns[3]\n",
    "                alt = columns[4]\n",
    "                name = columns[2]  # Variant identifier\n",
    "                score = columns[5] if columns[5] != \".\" else \"0\"  # Quality of the variant call\n",
    "                strand = \"+\"  # Default strand value\n",
    "                ref_alt = f\"{ref}/{alt}\"  # REF/ALT column\n",
    "                info = columns[7]  # info column\n",
    "                # GENEINFO\n",
    "\n",
    "                # Check if the variant is a SNP\n",
    "                if len(ref) == 1 and len(alt) == 1 and ref != '.' and alt != '.':\n",
    "                    start = pos - flank_length\n",
    "                    end = pos + flank_length\n",
    "                    # bed_file.write(f\"{chrom}\\t{start}\\t{end}\\t{name}\\t{score}\\t{strand}\\n\")\n",
    "                    # bed_file.write(f\"{chrom}\\t{start}\\t{end}\\t{name}\\t{score}\\t{strand}\\t{ref_alt}\\n\")\n",
    "                    bed_file.write(f\"{chrom}\\t{start}\\t{end}\\t{name}\\t{score}\\t{strand}\\t{ref_alt}\\t{info}\\n\")\n",
    "                \n",
    "                if subset != None:\n",
    "                    if i > subset:\n",
    "                        break\n",
    "                else:\n",
    "                    if i % 1000000 == 0:\n",
    "                        print(i)\n",
    "                i+=1\n",
    "                    \n"
   ]
  },
  {
   "cell_type": "markdown",
   "id": "9c819acb-272b-4073-91b0-070e0535f5ce",
   "metadata": {},
   "source": [
    "### Run the extraction"
   ]
  },
  {
   "cell_type": "code",
   "execution_count": 25,
   "id": "50116184-c6a2-4904-a4c4-2b8ea34faec4",
   "metadata": {},
   "outputs": [
    {
     "name": "stdout",
     "output_type": "stream",
     "text": [
      "0\n",
      "1000000\n",
      "2000000\n"
     ]
    }
   ],
   "source": [
    "extract_snps_regions(vcf_path, output_bed_path, subset=snps_subset)\n"
   ]
  },
  {
   "cell_type": "code",
   "execution_count": 26,
   "id": "1f887410-a647-4e57-a64e-c1196fa753f7",
   "metadata": {},
   "outputs": [
    {
     "data": {
      "text/plain": [
       "'../per_RBP_BED/output_clinvar_snps.bed'"
      ]
     },
     "execution_count": 26,
     "metadata": {},
     "output_type": "execute_result"
    }
   ],
   "source": [
    "output_bed_path"
   ]
  },
  {
   "cell_type": "code",
   "execution_count": 28,
   "id": "b7b122e4-f1f1-4a3a-b94b-6714ced519f5",
   "metadata": {},
   "outputs": [
    {
     "ename": "ParserError",
     "evalue": "Error tokenizing data. C error: Calling read(nbytes) on source failed. Try engine='python'.",
     "output_type": "error",
     "traceback": [
      "\u001b[0;31m---------------------------------------------------------------------------\u001b[0m",
      "\u001b[0;31mParserError\u001b[0m                               Traceback (most recent call last)",
      "Cell \u001b[0;32mIn[28], line 2\u001b[0m\n\u001b[1;32m      1\u001b[0m \u001b[38;5;66;03m# Load the BED file into a pandas DataFrame\u001b[39;00m\n\u001b[0;32m----> 2\u001b[0m df \u001b[38;5;241m=\u001b[39m \u001b[43mpd\u001b[49m\u001b[38;5;241;43m.\u001b[39;49m\u001b[43mread_csv\u001b[49m\u001b[43m(\u001b[49m\u001b[43moutput_bed_path\u001b[49m\u001b[43m,\u001b[49m\u001b[43m \u001b[49m\u001b[43msep\u001b[49m\u001b[38;5;241;43m=\u001b[39;49m\u001b[38;5;124;43m'\u001b[39;49m\u001b[38;5;130;43;01m\\t\u001b[39;49;00m\u001b[38;5;124;43m'\u001b[39;49m\u001b[43m,\u001b[49m\u001b[43m \u001b[49m\u001b[43mheader\u001b[49m\u001b[38;5;241;43m=\u001b[39;49m\u001b[38;5;28;43;01mNone\u001b[39;49;00m\u001b[43m,\u001b[49m\u001b[43m \u001b[49m\u001b[43mnames\u001b[49m\u001b[38;5;241;43m=\u001b[39;49m\u001b[43m[\u001b[49m\u001b[38;5;124;43m'\u001b[39;49m\u001b[38;5;124;43mChromosome\u001b[39;49m\u001b[38;5;124;43m'\u001b[39;49m\u001b[43m,\u001b[49m\u001b[43m \u001b[49m\u001b[38;5;124;43m'\u001b[39;49m\u001b[38;5;124;43mStart\u001b[39;49m\u001b[38;5;124;43m'\u001b[39;49m\u001b[43m,\u001b[49m\u001b[43m \u001b[49m\u001b[38;5;124;43m'\u001b[39;49m\u001b[38;5;124;43mEnd\u001b[39;49m\u001b[38;5;124;43m'\u001b[39;49m\u001b[43m,\u001b[49m\u001b[43m \u001b[49m\u001b[38;5;124;43m'\u001b[39;49m\u001b[38;5;124;43mName\u001b[39;49m\u001b[38;5;124;43m'\u001b[39;49m\u001b[43m,\u001b[49m\u001b[43m \u001b[49m\u001b[38;5;124;43m'\u001b[39;49m\u001b[38;5;124;43mScore\u001b[39;49m\u001b[38;5;124;43m'\u001b[39;49m\u001b[43m,\u001b[49m\u001b[43m \u001b[49m\u001b[38;5;124;43m'\u001b[39;49m\u001b[38;5;124;43mStrand\u001b[39;49m\u001b[38;5;124;43m'\u001b[39;49m\u001b[43m,\u001b[49m\u001b[43m \u001b[49m\u001b[38;5;124;43m'\u001b[39;49m\u001b[38;5;124;43mref_alt\u001b[39;49m\u001b[38;5;124;43m'\u001b[39;49m\u001b[43m]\u001b[49m\u001b[43m)\u001b[49m\n\u001b[1;32m      4\u001b[0m \u001b[38;5;66;03m# Display the first few rows\u001b[39;00m\n\u001b[1;32m      5\u001b[0m \u001b[38;5;28mprint\u001b[39m(df\u001b[38;5;241m.\u001b[39mhead(\u001b[38;5;241m2000\u001b[39m)[df[\u001b[38;5;124m'\u001b[39m\u001b[38;5;124mChromosome\u001b[39m\u001b[38;5;124m'\u001b[39m] \u001b[38;5;241m==\u001b[39m \u001b[38;5;124m'\u001b[39m\u001b[38;5;124mchr1\u001b[39m\u001b[38;5;124m'\u001b[39m])\n",
      "File \u001b[0;32m~/my-conda-envs/decay_exploration/lib/python3.8/site-packages/pandas/util/_decorators.py:211\u001b[0m, in \u001b[0;36mdeprecate_kwarg.<locals>._deprecate_kwarg.<locals>.wrapper\u001b[0;34m(*args, **kwargs)\u001b[0m\n\u001b[1;32m    209\u001b[0m     \u001b[38;5;28;01melse\u001b[39;00m:\n\u001b[1;32m    210\u001b[0m         kwargs[new_arg_name] \u001b[38;5;241m=\u001b[39m new_arg_value\n\u001b[0;32m--> 211\u001b[0m \u001b[38;5;28;01mreturn\u001b[39;00m \u001b[43mfunc\u001b[49m\u001b[43m(\u001b[49m\u001b[38;5;241;43m*\u001b[39;49m\u001b[43margs\u001b[49m\u001b[43m,\u001b[49m\u001b[43m \u001b[49m\u001b[38;5;241;43m*\u001b[39;49m\u001b[38;5;241;43m*\u001b[39;49m\u001b[43mkwargs\u001b[49m\u001b[43m)\u001b[49m\n",
      "File \u001b[0;32m~/my-conda-envs/decay_exploration/lib/python3.8/site-packages/pandas/util/_decorators.py:331\u001b[0m, in \u001b[0;36mdeprecate_nonkeyword_arguments.<locals>.decorate.<locals>.wrapper\u001b[0;34m(*args, **kwargs)\u001b[0m\n\u001b[1;32m    325\u001b[0m \u001b[38;5;28;01mif\u001b[39;00m \u001b[38;5;28mlen\u001b[39m(args) \u001b[38;5;241m>\u001b[39m num_allow_args:\n\u001b[1;32m    326\u001b[0m     warnings\u001b[38;5;241m.\u001b[39mwarn(\n\u001b[1;32m    327\u001b[0m         msg\u001b[38;5;241m.\u001b[39mformat(arguments\u001b[38;5;241m=\u001b[39m_format_argument_list(allow_args)),\n\u001b[1;32m    328\u001b[0m         \u001b[38;5;167;01mFutureWarning\u001b[39;00m,\n\u001b[1;32m    329\u001b[0m         stacklevel\u001b[38;5;241m=\u001b[39mfind_stack_level(),\n\u001b[1;32m    330\u001b[0m     )\n\u001b[0;32m--> 331\u001b[0m \u001b[38;5;28;01mreturn\u001b[39;00m \u001b[43mfunc\u001b[49m\u001b[43m(\u001b[49m\u001b[38;5;241;43m*\u001b[39;49m\u001b[43margs\u001b[49m\u001b[43m,\u001b[49m\u001b[43m \u001b[49m\u001b[38;5;241;43m*\u001b[39;49m\u001b[38;5;241;43m*\u001b[39;49m\u001b[43mkwargs\u001b[49m\u001b[43m)\u001b[49m\n",
      "File \u001b[0;32m~/my-conda-envs/decay_exploration/lib/python3.8/site-packages/pandas/io/parsers/readers.py:950\u001b[0m, in \u001b[0;36mread_csv\u001b[0;34m(filepath_or_buffer, sep, delimiter, header, names, index_col, usecols, squeeze, prefix, mangle_dupe_cols, dtype, engine, converters, true_values, false_values, skipinitialspace, skiprows, skipfooter, nrows, na_values, keep_default_na, na_filter, verbose, skip_blank_lines, parse_dates, infer_datetime_format, keep_date_col, date_parser, dayfirst, cache_dates, iterator, chunksize, compression, thousands, decimal, lineterminator, quotechar, quoting, doublequote, escapechar, comment, encoding, encoding_errors, dialect, error_bad_lines, warn_bad_lines, on_bad_lines, delim_whitespace, low_memory, memory_map, float_precision, storage_options)\u001b[0m\n\u001b[1;32m    935\u001b[0m kwds_defaults \u001b[38;5;241m=\u001b[39m _refine_defaults_read(\n\u001b[1;32m    936\u001b[0m     dialect,\n\u001b[1;32m    937\u001b[0m     delimiter,\n\u001b[0;32m   (...)\u001b[0m\n\u001b[1;32m    946\u001b[0m     defaults\u001b[38;5;241m=\u001b[39m{\u001b[38;5;124m\"\u001b[39m\u001b[38;5;124mdelimiter\u001b[39m\u001b[38;5;124m\"\u001b[39m: \u001b[38;5;124m\"\u001b[39m\u001b[38;5;124m,\u001b[39m\u001b[38;5;124m\"\u001b[39m},\n\u001b[1;32m    947\u001b[0m )\n\u001b[1;32m    948\u001b[0m kwds\u001b[38;5;241m.\u001b[39mupdate(kwds_defaults)\n\u001b[0;32m--> 950\u001b[0m \u001b[38;5;28;01mreturn\u001b[39;00m \u001b[43m_read\u001b[49m\u001b[43m(\u001b[49m\u001b[43mfilepath_or_buffer\u001b[49m\u001b[43m,\u001b[49m\u001b[43m \u001b[49m\u001b[43mkwds\u001b[49m\u001b[43m)\u001b[49m\n",
      "File \u001b[0;32m~/my-conda-envs/decay_exploration/lib/python3.8/site-packages/pandas/io/parsers/readers.py:611\u001b[0m, in \u001b[0;36m_read\u001b[0;34m(filepath_or_buffer, kwds)\u001b[0m\n\u001b[1;32m    608\u001b[0m     \u001b[38;5;28;01mreturn\u001b[39;00m parser\n\u001b[1;32m    610\u001b[0m \u001b[38;5;28;01mwith\u001b[39;00m parser:\n\u001b[0;32m--> 611\u001b[0m     \u001b[38;5;28;01mreturn\u001b[39;00m \u001b[43mparser\u001b[49m\u001b[38;5;241;43m.\u001b[39;49m\u001b[43mread\u001b[49m\u001b[43m(\u001b[49m\u001b[43mnrows\u001b[49m\u001b[43m)\u001b[49m\n",
      "File \u001b[0;32m~/my-conda-envs/decay_exploration/lib/python3.8/site-packages/pandas/io/parsers/readers.py:1778\u001b[0m, in \u001b[0;36mTextFileReader.read\u001b[0;34m(self, nrows)\u001b[0m\n\u001b[1;32m   1771\u001b[0m nrows \u001b[38;5;241m=\u001b[39m validate_integer(\u001b[38;5;124m\"\u001b[39m\u001b[38;5;124mnrows\u001b[39m\u001b[38;5;124m\"\u001b[39m, nrows)\n\u001b[1;32m   1772\u001b[0m \u001b[38;5;28;01mtry\u001b[39;00m:\n\u001b[1;32m   1773\u001b[0m     \u001b[38;5;66;03m# error: \"ParserBase\" has no attribute \"read\"\u001b[39;00m\n\u001b[1;32m   1774\u001b[0m     (\n\u001b[1;32m   1775\u001b[0m         index,\n\u001b[1;32m   1776\u001b[0m         columns,\n\u001b[1;32m   1777\u001b[0m         col_dict,\n\u001b[0;32m-> 1778\u001b[0m     ) \u001b[38;5;241m=\u001b[39m \u001b[38;5;28;43mself\u001b[39;49m\u001b[38;5;241;43m.\u001b[39;49m\u001b[43m_engine\u001b[49m\u001b[38;5;241;43m.\u001b[39;49m\u001b[43mread\u001b[49m\u001b[43m(\u001b[49m\u001b[43m  \u001b[49m\u001b[38;5;66;43;03m# type: ignore[attr-defined]\u001b[39;49;00m\n\u001b[1;32m   1779\u001b[0m \u001b[43m        \u001b[49m\u001b[43mnrows\u001b[49m\n\u001b[1;32m   1780\u001b[0m \u001b[43m    \u001b[49m\u001b[43m)\u001b[49m\n\u001b[1;32m   1781\u001b[0m \u001b[38;5;28;01mexcept\u001b[39;00m \u001b[38;5;167;01mException\u001b[39;00m:\n\u001b[1;32m   1782\u001b[0m     \u001b[38;5;28mself\u001b[39m\u001b[38;5;241m.\u001b[39mclose()\n",
      "File \u001b[0;32m~/my-conda-envs/decay_exploration/lib/python3.8/site-packages/pandas/io/parsers/c_parser_wrapper.py:230\u001b[0m, in \u001b[0;36mCParserWrapper.read\u001b[0;34m(self, nrows)\u001b[0m\n\u001b[1;32m    228\u001b[0m \u001b[38;5;28;01mtry\u001b[39;00m:\n\u001b[1;32m    229\u001b[0m     \u001b[38;5;28;01mif\u001b[39;00m \u001b[38;5;28mself\u001b[39m\u001b[38;5;241m.\u001b[39mlow_memory:\n\u001b[0;32m--> 230\u001b[0m         chunks \u001b[38;5;241m=\u001b[39m \u001b[38;5;28;43mself\u001b[39;49m\u001b[38;5;241;43m.\u001b[39;49m\u001b[43m_reader\u001b[49m\u001b[38;5;241;43m.\u001b[39;49m\u001b[43mread_low_memory\u001b[49m\u001b[43m(\u001b[49m\u001b[43mnrows\u001b[49m\u001b[43m)\u001b[49m\n\u001b[1;32m    231\u001b[0m         \u001b[38;5;66;03m# destructive to chunks\u001b[39;00m\n\u001b[1;32m    232\u001b[0m         data \u001b[38;5;241m=\u001b[39m _concatenate_chunks(chunks)\n",
      "File \u001b[0;32m~/my-conda-envs/decay_exploration/lib/python3.8/site-packages/pandas/_libs/parsers.pyx:808\u001b[0m, in \u001b[0;36mpandas._libs.parsers.TextReader.read_low_memory\u001b[0;34m()\u001b[0m\n",
      "File \u001b[0;32m~/my-conda-envs/decay_exploration/lib/python3.8/site-packages/pandas/_libs/parsers.pyx:866\u001b[0m, in \u001b[0;36mpandas._libs.parsers.TextReader._read_rows\u001b[0;34m()\u001b[0m\n",
      "File \u001b[0;32m~/my-conda-envs/decay_exploration/lib/python3.8/site-packages/pandas/_libs/parsers.pyx:852\u001b[0m, in \u001b[0;36mpandas._libs.parsers.TextReader._tokenize_rows\u001b[0;34m()\u001b[0m\n",
      "File \u001b[0;32m~/my-conda-envs/decay_exploration/lib/python3.8/site-packages/pandas/_libs/parsers.pyx:1973\u001b[0m, in \u001b[0;36mpandas._libs.parsers.raise_parser_error\u001b[0;34m()\u001b[0m\n",
      "\u001b[0;31mParserError\u001b[0m: Error tokenizing data. C error: Calling read(nbytes) on source failed. Try engine='python'."
     ]
    }
   ],
   "source": [
    "# Load the BED file into a pandas DataFrame\n",
    "df = pd.read_csv(output_bed_path, sep='\\t', header=None, names=['Chromosome', 'Start', 'End', 'Name', 'Score', 'Strand', 'ref_alt'])\n",
    "\n",
    "# Display the first few rows\n",
    "print(df.head(2000)[df['Chromosome'] == 'chr1'])"
   ]
  },
  {
   "cell_type": "code",
   "execution_count": null,
   "id": "648c89ad-1426-4b84-9273-1ef53d9ee9b1",
   "metadata": {},
   "outputs": [],
   "source": [
    "# Load the BED file into a pandas DataFrame\n",
    "df = pd.read_csv(output_bed_path, sep='\\t', header=None, names=['Chromosome', 'Start', 'End', 'Name', 'Score', 'Strand', 'ref_alt'])"
   ]
  },
  {
   "cell_type": "code",
   "execution_count": null,
   "id": "746c53f9-2130-4832-a5f7-852b06a3c710",
   "metadata": {},
   "outputs": [],
   "source": [
    "# For vcf_path = \"../data/00-common_all.vcf\" - Display the boarder of chr1 and others \n",
    "print(df[1000000:10000100])"
   ]
  },
  {
   "cell_type": "code",
   "execution_count": null,
   "id": "839efd5e-de8a-4deb-8c80-3f72ff630e8d",
   "metadata": {},
   "outputs": [],
   "source": []
  }
 ],
 "metadata": {
  "kernelspec": {
   "display_name": "Python [conda env:decay_exploration]",
   "language": "python",
   "name": "conda-env-decay_exploration-py"
  },
  "language_info": {
   "codemirror_mode": {
    "name": "ipython",
    "version": 3
   },
   "file_extension": ".py",
   "mimetype": "text/x-python",
   "name": "python",
   "nbconvert_exporter": "python",
   "pygments_lexer": "ipython3",
   "version": "3.8.15"
  }
 },
 "nbformat": 4,
 "nbformat_minor": 5
}
