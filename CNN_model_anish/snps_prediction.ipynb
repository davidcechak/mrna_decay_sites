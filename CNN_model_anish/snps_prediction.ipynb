{
 "cells": [
  {
   "cell_type": "markdown",
   "id": "12c31865-0cc4-4994-baf0-5f44b6413072",
   "metadata": {},
   "source": [
    "### Set up parameters"
   ]
  },
  {
   "cell_type": "code",
   "execution_count": 1,
   "id": "32df4196-8b68-4f20-a170-bd9ca2b364c4",
   "metadata": {},
   "outputs": [],
   "source": [
    "#load the %autoreload extension using the %load_ext magic command\n",
    "#Then, we set the %autoreload magic command to 2, which means that modules will be reloaded every time a cell is executed\n",
    "%load_ext autoreload\n",
    "%autoreload 2"
   ]
  },
  {
   "cell_type": "code",
   "execution_count": 2,
   "id": "8cd139de-d2d4-4eab-b759-0a483551895b",
   "metadata": {},
   "outputs": [],
   "source": [
    "# dataset_name = \"snps_SMALL_ref_alt\"\n",
    "# dataset_name = \"snps\"\n",
    "dataset_name = \"clinvar_snps\"\n",
    "# dataset_name = \"all_snps\"\n",
    "\n",
    "\n",
    "\n",
    "# bed_file_path = \"../per_RBP_transcr_BED/keep/output_\" + dataset_name + \".bed\"  # path to BED file\n",
    "bed_file_path = \"../per_RBP_transcr_BED/with_info/output_\" + dataset_name + \".bed\"  # path to BED file\n",
    "\n",
    "transcript_fasta_path = \"../data/hg38/transcripts.fa\"  # path to transcript FASTA file\n",
    "CDS_BED_PATH = '../get_fasta/run/genic_elements.cds.bed'\n",
    "\n",
    "SNP_FASTA_FOLDER = \"data_snps_fasta1\"\n",
    "ref_output_fasta_file_path = \"{}/{}/extracted_sequences_ref.fa\".format(SNP_FASTA_FOLDER, dataset_name) # path to FASTA sequences according to reference \n",
    "alt_output_fasta_file_path = \"{}/{}/extracted_sequences_alt.fa\".format(SNP_FASTA_FOLDER, dataset_name) # path to FASTA sequences according to VCF alternatives\n"
   ]
  },
  {
   "cell_type": "code",
   "execution_count": 3,
   "id": "e651f65a-f952-45bb-af21-49158e56d196",
   "metadata": {},
   "outputs": [],
   "source": [
    "START_CODON = 'ATG'\n",
    "\n",
    "# FOR VARIANT AT EVERY POSITION IN THE SEQ\n",
    "VARIANT_POSITION = 200\n",
    "# VARIANT_POSITION = 199\n",
    "CUT_POSITION_MODEL_INPUT = 100"
   ]
  },
  {
   "cell_type": "code",
   "execution_count": 4,
   "id": "50c95a9c-bd60-4842-a9de-4c0f8a12a1cb",
   "metadata": {},
   "outputs": [],
   "source": [
    "FIGURES_FOLDER = 'figures/'"
   ]
  },
  {
   "cell_type": "code",
   "execution_count": 5,
   "id": "e5d1a655-641e-4c4b-a2b8-154867809430",
   "metadata": {},
   "outputs": [],
   "source": [
    "from Bio import SeqIO\n",
    "import pandas as pd"
   ]
  },
  {
   "cell_type": "code",
   "execution_count": 6,
   "id": "b0ed342b-5af3-41cd-904a-4d5ec3f61496",
   "metadata": {},
   "outputs": [],
   "source": [
    "from enum import Enum, auto\n",
    "\n",
    "class Sequence(Enum):\n",
    "    # inside the CDS region\n",
    "    CDS = auto()\n",
    "    # outside the CDS region\n",
    "    NOT_CDS = auto()\n",
    "    # transcript not in genic_elements.cds.bed file\n",
    "    MISSING_RECORD = auto()"
   ]
  },
  {
   "cell_type": "code",
   "execution_count": 7,
   "id": "912f63c4-1ac3-4396-a3b9-bf1ddff80b81",
   "metadata": {},
   "outputs": [],
   "source": [
    "# Load the coding regions\n",
    "# coding_regions = BedTool('../get_fasta/run/genic_elements.cds.bed')\n",
    "# Load the BED file into a pandas DataFrame\n",
    "cds_df = pd.read_csv(CDS_BED_PATH, sep='\\t', header=None, names=['seqname', 'start', 'end', 'name', 'score', 'strand'])\n",
    "\n",
    "\n",
    "def is_transcript_coords_in_cds(transcript_id, nucleotide_position, cds_df):\n",
    "    # Filter: keep only reads that start in coding regions (CDS)\n",
    "    # strand = '-' if read.is_reverse else '+'\n",
    "    strand = '+'\n",
    "    try:\n",
    "        transcript_cds = cds_df[cds_df['seqname'] == transcript_id]\n",
    "        cds_start = transcript_cds['start'].values[0]\n",
    "        cds_end = transcript_cds['end'].values[0]\n",
    "        cds_strand = transcript_cds['strand'].values[0]\n",
    "    except Exception as e:\n",
    "        return Sequence.MISSING_RECORD\n",
    "\n",
    "    # Check if the start position of the read is within a coding region\n",
    "    if ((nucleotide_position >= cds_start)\n",
    "        and (nucleotide_position <= cds_end) \n",
    "        and (strand == cds_strand)):\n",
    "        return Sequence.CDS\n",
    "    return Sequence.NOT_CDS"
   ]
  },
  {
   "cell_type": "code",
   "execution_count": 8,
   "id": "36f2832a-e75d-4525-be32-ebb641c4d636",
   "metadata": {},
   "outputs": [],
   "source": [
    "def get_first_codon_atg(transcript_id, cds_df, transcripts):\n",
    "    try:\n",
    "        transcript_cds = cds_df[cds_df['seqname'] == transcript_id]\n",
    "        cds_start = transcript_cds['start'].values[0]\n",
    "        cds_end = transcript_cds['end'].values[0]\n",
    "        cds_strand = transcript_cds['strand'].values[0]\n",
    "    except Exception as e:\n",
    "        return Sequence.MISSING_RECORD\n",
    "    \n",
    "    cds_first_codon = transcripts[transcript_id].seq[cds_start:cds_start+3].upper()\n",
    "    first_codon_neighborhood = transcripts[transcript_id].seq[cds_start-5:cds_start+8].upper()\n",
    "    \n",
    "    # print(cds_first_codon == START_CODON)\n",
    "    return (cds_first_codon, first_codon_neighborhood)"
   ]
  },
  {
   "cell_type": "code",
   "execution_count": 9,
   "id": "110cc08e-c708-445b-8938-c04e86f3d3e0",
   "metadata": {},
   "outputs": [],
   "source": [
    "def get_distance_from_first_nt(transcript_id, cds_df, nt_position):\n",
    "    try:\n",
    "        transcript_cds = cds_df[cds_df['seqname'] == transcript_id]\n",
    "        cds_start = transcript_cds['start'].values[0]\n",
    "        cds_end = transcript_cds['end'].values[0]\n",
    "        cds_strand = transcript_cds['strand'].values[0]\n",
    "    except Exception as e:\n",
    "        return Sequence.MISSING_RECORD\n",
    "    \n",
    "    distance = nt_position - cds_start\n",
    "    return distance"
   ]
  },
  {
   "cell_type": "code",
   "execution_count": 12,
   "id": "a3a69b06-41fa-4d05-8d10-7262b4fbdd33",
   "metadata": {},
   "outputs": [
    {
     "name": "stdout",
     "output_type": "stream",
     "text": [
      "3000\n",
      "6000\n",
      "9000\n",
      "12000\n",
      "15000\n",
      "18000\n",
      "21000\n",
      "24000\n",
      "27000\n",
      "30000\n",
      "33000\n",
      "36000\n",
      "39000\n",
      "42000\n",
      "45000\n",
      "48000\n",
      "51000\n",
      "54000\n",
      "57000\n",
      "60000\n",
      "63000\n",
      "66000\n",
      "69000\n",
      "72000\n",
      "75000\n",
      "78000\n",
      "81000\n",
      "84000\n",
      "87000\n",
      "90000\n",
      "93000\n",
      "96000\n",
      "99000\n",
      "102000\n",
      "105000\n",
      "108000\n",
      "111000\n",
      "114000\n",
      "117000\n",
      "120000\n",
      "123000\n",
      "126000\n",
      "129000\n",
      "132000\n",
      "135000\n",
      "138000\n",
      "141000\n",
      "144000\n",
      "147000\n",
      "150000\n",
      "153000\n",
      "156000\n",
      "159000\n",
      "162000\n",
      "165000\n",
      "168000\n",
      "171000\n",
      "174000\n",
      "177000\n",
      "180000\n",
      "183000\n",
      "186000\n",
      "189000\n",
      "192000\n",
      "195000\n",
      "198000\n",
      "201000\n",
      "204000\n",
      "207000\n",
      "210000\n",
      "213000\n",
      "216000\n",
      "219000\n",
      "222000\n",
      "225000\n",
      "228000\n",
      "231000\n",
      "234000\n",
      "237000\n",
      "240000\n",
      "243000\n",
      "246000\n",
      "249000\n",
      "252000\n",
      "255000\n",
      "258000\n",
      "261000\n",
      "264000\n",
      "267000\n",
      "270000\n",
      "273000\n",
      "276000\n",
      "279000\n",
      "282000\n",
      "285000\n",
      "288000\n",
      "291000\n",
      "294000\n",
      "297000\n",
      "300000\n",
      "303000\n",
      "306000\n",
      "309000\n",
      "312000\n",
      "315000\n",
      "318000\n",
      "321000\n",
      "324000\n",
      "327000\n",
      "330000\n",
      "333000\n",
      "336000\n",
      "339000\n",
      "342000\n",
      "345000\n",
      "348000\n",
      "351000\n",
      "354000\n",
      "357000\n",
      "360000\n",
      "363000\n",
      "366000\n",
      "369000\n",
      "372000\n",
      "375000\n",
      "378000\n",
      "381000\n",
      "384000\n"
     ]
    }
   ],
   "source": [
    "transcripts = SeqIO.to_dict(SeqIO.parse(transcript_fasta_path, \"fasta\"))\n",
    "\n",
    "first_nt_to_variant_distances = []\n",
    "\n",
    "i = 0\n",
    "first_codons_by_transcript = {}\n",
    "first_codons = []\n",
    "\n",
    "with open(bed_file_path, 'r') as bed_file:\n",
    "    for line in bed_file:\n",
    "        columns = line.strip().split('\\t')\n",
    "        transcript_id = columns[0]\n",
    "        # FOR VARIANT AT EVERY POSITION IN THE SEQ\n",
    "        start = int(columns[1])-1\n",
    "        # start = int(columns[1])\n",
    "        end = int(columns[2])\n",
    "        ref_alt = str(columns[-1])\n",
    "\n",
    "        if transcript_id in transcripts:\n",
    "            nucleotide_position = start + VARIANT_POSITION\n",
    "            tmp = is_transcript_coords_in_cds(transcript_id, nucleotide_position, cds_df)\n",
    "            if tmp == Sequence.CDS:\n",
    "                # print('CDS of transcript {} does NOT have ATG a first codon'.format(transcript_id))\n",
    "                (codon, neighborhood) = get_first_codon_atg(transcript_id, cds_df, transcripts)\n",
    "                first_codons.append(codon)\n",
    "                first_codons_by_transcript[transcript_id] = (\n",
    "                    codon, \n",
    "                    neighborhood, \n",
    "                    # transcript_cds['start'].values[0], \n",
    "                    # transcript_cds['end'].values[0],\n",
    "                )\n",
    "\n",
    "                distance = get_distance_from_first_nt(\n",
    "                    transcript_id, \n",
    "                    cds_df, \n",
    "                    nucleotide_position,\n",
    "                )\n",
    "                first_nt_to_variant_distances.append(distance)\n",
    "        i+=1\n",
    "        if i % 3000 == 0:\n",
    "            print(i)\n"
   ]
  },
  {
   "cell_type": "code",
   "execution_count": 13,
   "id": "44a04ded-2a92-4fef-80a6-770961d0887e",
   "metadata": {},
   "outputs": [
    {
     "data": {
      "text/plain": [
       "[(Seq('ATG'), Seq('ACTCTATGGTGAC')),\n",
       " (Seq('ATG'), Seq('ACTCTATGGTGAC')),\n",
       " (Seq('ATG'), Seq('CGCTTATGTCCAA')),\n",
       " (Seq('ATG'), Seq('CGCTTATGTCCAA')),\n",
       " (Seq('ATG'), Seq('CGCTTATGTCCAA')),\n",
       " (Seq('ATG'), Seq('CGCTTATGTCCAA')),\n",
       " (Seq('ATG'), Seq('CGCTTATGTCCAA')),\n",
       " (Seq('ATG'), Seq('CGCTTATGTCCAA')),\n",
       " (Seq('ATG'), Seq('CGCTTATGTCCAA')),\n",
       " (Seq('ATG'), Seq('CGCTTATGTCCAA'))]"
      ]
     },
     "execution_count": 13,
     "metadata": {},
     "output_type": "execute_result"
    }
   ],
   "source": [
    "list(first_codons_by_transcript.values())[:10]"
   ]
  },
  {
   "cell_type": "code",
   "execution_count": 14,
   "id": "e2d2ea30-e959-40a2-91e6-b7610a22de34",
   "metadata": {},
   "outputs": [
    {
     "data": {
      "text/plain": [
       "[0, 1, 2, 0, 1, 2, 0, 1, 2, 0, 1, 2, 0, 1, 2, 0, 1, 2]"
      ]
     },
     "execution_count": 14,
     "metadata": {},
     "output_type": "execute_result"
    }
   ],
   "source": [
    "distance = first_nt_to_variant_distances[0]\n",
    "frame = [(x-1) % 3 for x in [1,2,3,4,5,6,7,8,9,10,11,12,13,14,15,16,17,18]]\n",
    "\n",
    "frame"
   ]
  },
  {
   "cell_type": "code",
   "execution_count": 15,
   "id": "6a650eeb-6e9a-4cd0-96c3-19543d333f59",
   "metadata": {},
   "outputs": [
    {
     "data": {
      "text/plain": [
       "(1, 1)"
      ]
     },
     "execution_count": 15,
     "metadata": {},
     "output_type": "execute_result"
    }
   ],
   "source": [
    "from utils import generate_random_dna_sequence, find_codon_frame_index\n",
    "start_index = 1\n",
    "plus = 3\n",
    "find_codon_frame_index(start_index+plus), frame[start_index+plus]"
   ]
  },
  {
   "cell_type": "code",
   "execution_count": 16,
   "id": "e88edd69-ea18-49d7-81c3-272fbbb94ac6",
   "metadata": {},
   "outputs": [
    {
     "data": {
      "text/plain": [
       "0"
      ]
     },
     "execution_count": 16,
     "metadata": {},
     "output_type": "execute_result"
    }
   ],
   "source": [
    "3%3"
   ]
  },
  {
   "cell_type": "code",
   "execution_count": 17,
   "id": "d21d417b-4dc3-4d40-b39c-5e17ae3798f6",
   "metadata": {},
   "outputs": [
    {
     "data": {
      "text/plain": [
       "'CCCAGTTTTGCGTCCGACTTTATTTCACTTATCTCCTGTAGATAGACTCGATCTCATGACTCGGCTCCATCTACGGGCTAGCTTAAAATTCATGGCCCCGCGTTGCCGGTCACGTTGGATAATCTATCATAGTAATCATGCAACAATTATGCTCAGGTGCTGTTCCCTAGTATGCGCATGATTAAAGCTCCCCTTTTGGGATGCCACGCCCTGGATTGTTAAGTTTCACCGGCCGCCAGGTGCAAAAACTGAGTGCCCGTTTCGATTAGCGTACTAATACGATTGACATACTTCGCTAACAGAACACGGCGCTAAATCTAACCATCGTTCCACGCCTGTCTTCTTGGTATCCTGTGTTTACCTAAGCCTTCAAGACACGAAGCTAAACCCCCCATCAACATCCCATGCGGAGGCCGGCTGGTGCCGAACTGTTTGGGAACATTTGCTGCGGATCCGGGAGGCGATACTCAGGCTTCAAAACGAGCTGAACCGATCATGCCCCATGGCCGCGTTGGTCAAGGCTATCTTTCAATATTGCGACGAGTGGCGT'"
      ]
     },
     "execution_count": 17,
     "metadata": {},
     "output_type": "execute_result"
    }
   ],
   "source": [
    "length=550\n",
    "dna = generate_random_dna_sequence(length=length)\n",
    "dna"
   ]
  },
  {
   "cell_type": "code",
   "execution_count": 18,
   "id": "21b3a0fb-28a5-4405-810a-0d09d918167e",
   "metadata": {},
   "outputs": [
    {
     "data": {
      "text/plain": [
       "('C', 5, 1, 2)"
      ]
     },
     "execution_count": 18,
     "metadata": {},
     "output_type": "execute_result"
    }
   ],
   "source": [
    "cds_index = 2\n",
    "nt_position = 7\n",
    "nt_position_relative_to_cds_start = nt_position - cds_index\n",
    "frame_list = [x % 3 for x in range(len(dna))]\n",
    "\n",
    "dna[cds_index], nt_position_relative_to_cds_start, find_codon_frame_index(nt_position), frame_list[nt_position_relative_to_cds_start]"
   ]
  },
  {
   "cell_type": "code",
   "execution_count": 19,
   "id": "c50ad92a-efb2-4b97-b3e5-66d37981b8b1",
   "metadata": {},
   "outputs": [
    {
     "data": {
      "text/plain": [
       "False"
      ]
     },
     "execution_count": 19,
     "metadata": {},
     "output_type": "execute_result"
    }
   ],
   "source": [
    "all(codon == START_CODON for codon in first_codons)"
   ]
  },
  {
   "cell_type": "code",
   "execution_count": 20,
   "id": "453b562d-baa4-4d33-b37b-8bd77afd64ed",
   "metadata": {},
   "outputs": [
    {
     "name": "stdout",
     "output_type": "stream",
     "text": [
      "wrong_first_codon sequences:  779\n",
      "all sequences:  329410\n"
     ]
    }
   ],
   "source": [
    "wrong_first_codon_indexes = [i for i in range(len(first_codons)) if first_codons[i] != START_CODON]\n",
    "\n",
    "print('wrong_first_codon sequences: ', len(wrong_first_codon_indexes))\n",
    "print('all sequences: ',len(first_codons))"
   ]
  },
  {
   "cell_type": "code",
   "execution_count": 21,
   "id": "18c50a55-984e-43a1-baa0-82d328c17552",
   "metadata": {},
   "outputs": [],
   "source": [
    "# [\"\".join(first_codons[i]) for i in wrong_first_codon_indexes]"
   ]
  },
  {
   "cell_type": "code",
   "execution_count": 22,
   "id": "3cba2ec9-8148-4bf2-996b-d64239a889f9",
   "metadata": {},
   "outputs": [],
   "source": [
    "# if the neighborhood is empty, it means the CDS start is at the beginning \n",
    "# and the neighborhood size overflowed the beginning of transcript\n",
    "wrong_first_codons_by_transcript = {}\n",
    "for index, (transcr_id, (codon, neighborhood)) in enumerate(first_codons_by_transcript.items()):\n",
    "    if codon != START_CODON:\n",
    "        wrong_first_codons_by_transcript[transcr_id] = (\n",
    "            \"\".join(codon), \n",
    "            neighborhood\n",
    "            # \"\".join(neighborhood[0:len(neighborhood)//2]),\n",
    "            # \"\".join(neighborhood[len(neighborhood)//2:]),\n",
    "        )"
   ]
  },
  {
   "cell_type": "code",
   "execution_count": 23,
   "id": "62891c4a-1423-493f-8975-38c463959912",
   "metadata": {},
   "outputs": [],
   "source": [
    "wrong_codons = [x[0] for x in wrong_first_codons_by_transcript.values()]"
   ]
  },
  {
   "cell_type": "code",
   "execution_count": 24,
   "id": "fabfe4d1-1076-4aef-85ff-d9835a471487",
   "metadata": {},
   "outputs": [
    {
     "data": {
      "image/png": "[encoded data removed]",
      "text/plain": [
       "<Figure size 600x500 with 1 Axes>"
      ]
     },
     "metadata": {},
     "output_type": "display_data"
    }
   ],
   "source": [
    "def get_simple_hist(df):\n",
    "    result_grouped = df.value_counts()\n",
    "    title = 'Total:{} \\ncount of codons at the start of CDS that are not ATG'.format(df.size)\n",
    "\n",
    "    plot = result_grouped.sort_values(ascending=False).plot(kind='bar', title = title, ylabel='Count per category',\n",
    "             xlabel='First codons in the CDS', figsize=(6, 5))\n",
    "    fig = plot.get_figure()\n",
    "    fig.savefig(FIGURES_FOLDER + title + \".png\")\n",
    "    \n",
    "get_simple_hist(pd.DataFrame(wrong_codons))"
   ]
  },
  {
   "cell_type": "code",
   "execution_count": 40,
   "id": "46210bfc-c4d6-4a06-984d-91d9c303d744",
   "metadata": {},
   "outputs": [],
   "source": [
    "from pathlib import Path\n",
    "\n",
    "def extract_sequences_bed_to_fasta(bed_path, transcript_path, ref_output_fasta_path, alt_output_fasta_path):\n",
    "    # Load the transcripts from the FASTA file into a dictionary\n",
    "    transcripts = SeqIO.to_dict(SeqIO.parse(transcript_path, \"fasta\"))\n",
    "\n",
    "    sequences = []\n",
    "    ref_alts = []\n",
    "    alt_sequences = []\n",
    "    ids_not_in_cds_bed_file = []\n",
    "    variants_outside_cds = []\n",
    "    first_codons = []\n",
    "    cut_distances_from_first_cds_nt = []\n",
    "    transcript_ids = []\n",
    "    variant_position_relative_to_transcript = []\n",
    "    info_collected = []\n",
    "    \n",
    "    Path(ref_output_fasta_path).parent.mkdir(parents=True, exist_ok=True)\n",
    "    \n",
    "    i = 0\n",
    "    \n",
    "    with open(bed_file_path, 'r') as bed_file:\n",
    "    # with open(bed_file_path, 'r') as bed_file, open(ref_output_fasta_path, 'w') as ref_output_file, open(alt_output_fasta_path, 'w') as alt_output_file:\n",
    "        for line in bed_file:\n",
    "            columns = line.strip().split('\\t')\n",
    "            transcript_id = columns[0]\n",
    "            # FOR VARIANT AT EVERY POSITION IN THE SEQ\n",
    "            start = int(columns[1])-1\n",
    "            # start = int(columns[1])\n",
    "            end = int(columns[2])\n",
    "            ref_alt = str(columns[6])\n",
    "            info = str(columns[7])\n",
    "\n",
    "            if transcript_id in transcripts:\n",
    "                cut_nucleotide_position = start + VARIANT_POSITION\n",
    "                tmp = is_transcript_coords_in_cds(transcript_id, cut_nucleotide_position, cds_df)\n",
    "                if tmp == Sequence.CDS:\n",
    "                    transcript_ids.append(transcript_id)\n",
    "                    variant_position_relative_to_transcript.append(cut_nucleotide_position)\n",
    "                    \n",
    "                    sequence = transcripts[transcript_id].seq[start:end].upper()\n",
    "                    sequences.append(sequence)\n",
    "                    ref_alts.append(ref_alt)\n",
    "                    \n",
    "                    a = str(sequence)[0:VARIANT_POSITION] \n",
    "                    b = ref_alt.split('/')[1]\n",
    "                    c = str(sequence)[VARIANT_POSITION + 1:]\n",
    "                    alt_sequence = a + b + c\n",
    "                    # alt_sequence = str(sequence)[0:VARIANT_POSITION] + ref_alt.split('/')[1] + str(sequence)[VARIANT_POSITION + 1:]\n",
    "                    alt_sequences.append(alt_sequence)\n",
    "                    \n",
    "                    (codon, neighborhood) = get_first_codon_atg(transcript_id, cds_df, transcripts)\n",
    "                    first_codons.append(codon)\n",
    "\n",
    "                    distance = get_distance_from_first_nt(\n",
    "                        transcript_id, \n",
    "                        cds_df, \n",
    "                        cut_nucleotide_position,\n",
    "                    )\n",
    "                    cut_distances_from_first_cds_nt.append(distance)\n",
    "                    info_collected.append(info)\n",
    "                    \n",
    "                    # ref_output_file.write(f\">{transcript_id}:{start}-{end}\\n{sequence}\\n\")\n",
    "                    # alt_output_file.write(f\">{transcript_id}:{start}-{end}\\n{alt_sequence}\\n\")\n",
    "                elif tmp == Sequence.NOT_CDS:\n",
    "                    variants_outside_cds.append((transcript_id, cut_nucleotide_position))\n",
    "                elif tmp == Sequence.MISSING_RECORD:\n",
    "                    ids_not_in_cds_bed_file.append(transcript_id)\n",
    "            i+=1\n",
    "            if i % 3000 == 0:\n",
    "                print(i)\n",
    "    print('variants outside of CDS region', len(variants_outside_cds))\n",
    "    \n",
    "    collected_data = [\n",
    "        transcript_ids,\n",
    "        sequences,\n",
    "        alt_sequences,\n",
    "        ref_alts,\n",
    "        first_codons,\n",
    "        cut_distances_from_first_cds_nt,\n",
    "        variant_position_relative_to_transcript,\n",
    "        info_collected,\n",
    "    ]\n",
    "    \n",
    "    return collected_data\n",
    "    # return sequences, ref_alts, alt_sequences, ids_not_in_cds_bed_file"
   ]
  },
  {
   "cell_type": "markdown",
   "id": "cfa1f071-7865-457b-b56c-ac5b952de2db",
   "metadata": {},
   "source": [
    "### Run the extraction"
   ]
  },
  {
   "cell_type": "code",
   "execution_count": 41,
   "id": "38c52325-a5ee-4a84-bd8a-685cf2b4d984",
   "metadata": {},
   "outputs": [
    {
     "name": "stdout",
     "output_type": "stream",
     "text": [
      "3000\n",
      "6000\n",
      "9000\n",
      "12000\n",
      "15000\n",
      "18000\n",
      "21000\n",
      "24000\n",
      "27000\n",
      "30000\n",
      "33000\n",
      "36000\n",
      "39000\n",
      "42000\n",
      "45000\n",
      "48000\n",
      "51000\n",
      "54000\n",
      "57000\n",
      "60000\n",
      "63000\n",
      "66000\n",
      "69000\n",
      "72000\n",
      "75000\n",
      "78000\n",
      "81000\n",
      "84000\n",
      "87000\n",
      "90000\n",
      "93000\n",
      "96000\n",
      "99000\n",
      "102000\n",
      "105000\n",
      "108000\n",
      "111000\n",
      "114000\n",
      "117000\n",
      "120000\n",
      "123000\n",
      "126000\n",
      "129000\n",
      "132000\n",
      "135000\n",
      "138000\n",
      "141000\n",
      "144000\n",
      "147000\n",
      "150000\n",
      "153000\n",
      "156000\n",
      "159000\n",
      "162000\n",
      "165000\n",
      "168000\n",
      "171000\n",
      "174000\n",
      "177000\n",
      "180000\n",
      "183000\n",
      "186000\n",
      "189000\n",
      "192000\n",
      "195000\n",
      "198000\n",
      "201000\n",
      "204000\n",
      "207000\n",
      "210000\n",
      "213000\n",
      "216000\n",
      "219000\n",
      "222000\n",
      "225000\n",
      "228000\n",
      "231000\n",
      "234000\n",
      "237000\n",
      "240000\n",
      "243000\n",
      "246000\n",
      "249000\n",
      "252000\n",
      "255000\n",
      "258000\n",
      "261000\n",
      "264000\n",
      "267000\n",
      "270000\n",
      "273000\n",
      "276000\n",
      "279000\n",
      "282000\n",
      "285000\n",
      "288000\n",
      "291000\n",
      "294000\n",
      "297000\n",
      "300000\n",
      "303000\n",
      "306000\n",
      "309000\n",
      "312000\n",
      "315000\n",
      "318000\n",
      "321000\n",
      "324000\n",
      "327000\n",
      "330000\n",
      "333000\n",
      "336000\n",
      "339000\n",
      "342000\n",
      "345000\n",
      "348000\n",
      "351000\n",
      "354000\n",
      "357000\n",
      "360000\n",
      "363000\n",
      "366000\n",
      "369000\n",
      "372000\n",
      "375000\n",
      "378000\n",
      "381000\n",
      "384000\n",
      "variants outside of CDS region 55342\n"
     ]
    }
   ],
   "source": [
    "from pathlib import Path\n",
    "\n",
    "# if Path(ref_output_fasta_file_path).is_file():\n",
    "#     # TODO\n",
    "#     # need to get variables sequences, ref_alts, alt_sequences\n",
    "#     # load ref and alt seq Fasta files - for sequences, alt_sequences\n",
    "#     # save and load ref_alts as csv\n",
    "#     pass\n",
    "# else:\n",
    "\n",
    "collected_data = extract_sequences_bed_to_fasta(\n",
    "# sequences, ref_alts, alt_sequences, ids_not_in_cds_file = extract_sequences_bed_to_fasta(\n",
    "    bed_file_path, \n",
    "    transcript_fasta_path, \n",
    "    ref_output_fasta_file_path, \n",
    "    alt_output_fasta_file_path,\n",
    ")"
   ]
  },
  {
   "cell_type": "code",
   "execution_count": 42,
   "id": "f725519f-fa84-4a46-ad89-a64024e3e8e3",
   "metadata": {},
   "outputs": [],
   "source": [
    "# TODO make collected_data to a dataframe and save as pkl\n",
    "\n",
    "collected_seq_data_pd = pd.DataFrame(\n",
    "    data=collected_data, \n",
    ").transpose()\n",
    "\n",
    "collected_seq_data_pd.columns=[\n",
    "        'transcript_ids',\n",
    "        'sequences',\n",
    "        'alt_sequences',\n",
    "        'ref_alts',\n",
    "        'first_codons',\n",
    "        'cut_distances_from_first_cds_nt',\n",
    "        'variant_position_relative_to_transcript',\n",
    "        'info',\n",
    "    ]"
   ]
  },
  {
   "cell_type": "code",
   "execution_count": 43,
   "id": "f72f7a3a-8e09-47db-ac62-1d31c0ef73b1",
   "metadata": {},
   "outputs": [],
   "source": [
    "collected_seq_data_pd.to_pickle(\"variant_sequences_details.pkl\")  "
   ]
  },
  {
   "cell_type": "code",
   "execution_count": 146,
   "id": "974d82e2-e9f2-47e8-a8b2-37b741dd23e6",
   "metadata": {},
   "outputs": [],
   "source": [
    "collected_seq_data_pd_loaded = pd.read_pickle(\"variant_sequences_details.pkl\")"
   ]
  },
  {
   "cell_type": "code",
   "execution_count": 147,
   "id": "fb6e3821-50dc-4cc8-9737-8301fdaff4f8",
   "metadata": {},
   "outputs": [],
   "source": [
    "collected_seq_data_pd_loaded.sequences = collected_seq_data_pd_loaded.sequences.map(lambda x: ''.join(x))"
   ]
  },
  {
   "cell_type": "code",
   "execution_count": 148,
   "id": "4ff473d7-041f-468e-83ff-a550855045ff",
   "metadata": {},
   "outputs": [],
   "source": [
    "collected_seq_data_pd_loaded.first_codons = collected_seq_data_pd_loaded.first_codons.map(lambda x: ''.join(x))"
   ]
  },
  {
   "cell_type": "code",
   "execution_count": 149,
   "id": "e1350746-7731-443d-94e9-0bd663985fe8",
   "metadata": {},
   "outputs": [],
   "source": [
    "# print('{} of variants lost because their transcript ID is not in the CDS bed file'.format(len(ids_not_in_cds_file)))\n",
    "# print('{} of transcript IDs is not in the CDS bed file'.format(len(set(ids_not_in_cds_file))))\n",
    "\n",
    "# either the CDS bed file is an older version then the variant call file (VCF)\n",
    "# or those transcripts have incomplete CDS, either because their 3’ or their 5’ (or both) ends are incomplete"
   ]
  },
  {
   "cell_type": "code",
   "execution_count": 150,
   "id": "7a7f081a-2145-4d46-9ead-c305e63e49cd",
   "metadata": {},
   "outputs": [],
   "source": [
    "# FOR VARIANT AT EVERY POSITION IN THE SEQ\n",
    "# HOTFIX - because of the change start = int(columns[1])-1, probably some starts might be -1,therefore incorectly indexing and not extracting the FASTA sequence"
   ]
  },
  {
   "cell_type": "code",
   "execution_count": 151,
   "id": "0a98ff1b-0763-4413-b74d-5a8f6cf3056e",
   "metadata": {},
   "outputs": [],
   "source": [
    "collected_seq_data_pd_loaded = collected_seq_data_pd_loaded[collected_seq_data_pd_loaded.sequences.str.len() == 401]"
   ]
  },
  {
   "cell_type": "code",
   "execution_count": 152,
   "id": "44d57a1d-1a61-4f4e-b092-eb96d3758f4b",
   "metadata": {},
   "outputs": [],
   "source": [
    "sequences = collected_seq_data_pd_loaded.sequences\n",
    "alt_sequences = collected_seq_data_pd_loaded.alt_sequences \n",
    "ref_alts = collected_seq_data_pd_loaded.ref_alts"
   ]
  },
  {
   "cell_type": "code",
   "execution_count": 153,
   "id": "ebe78bf7-9ca3-40eb-9cd7-0d288b88fdea",
   "metadata": {},
   "outputs": [
    {
     "name": "stdout",
     "output_type": "stream",
     "text": [
      "True\n",
      "True\n",
      "329346 of variants found in CDS bed file and inside the CDS region\n"
     ]
    }
   ],
   "source": [
    "# for i, seq in enumerate(sequences):\n",
    "    # print(seq[VARIANT_POSITION] == ref_alts[i][0], ref_alts[i][2] == alt_sequences[i][VARIANT_POSITION])\n",
    "    \n",
    "# check if the reference and alternative nucleotides are on a correct possition in the sequence\n",
    "print(all([sequences.values[i][VARIANT_POSITION] == ref_alts.values[i][0] for i in range(len(sequences.values))]))\n",
    "print(all([alt_sequences.values[i][VARIANT_POSITION] == ref_alts.values[i][2] for i in range(len(alt_sequences.values))]))\n",
    "print('{} of variants found in CDS bed file and inside the CDS region'.format(len(sequences.values)))"
   ]
  },
  {
   "cell_type": "markdown",
   "id": "85b26285-6432-497a-a4f2-7b2b2c7d12cd",
   "metadata": {},
   "source": [
    "#### Shorten sequence to desired model input"
   ]
  },
  {
   "cell_type": "code",
   "execution_count": 154,
   "id": "2da323dd-0a31-4bb1-87cc-72961fc5af93",
   "metadata": {},
   "outputs": [],
   "source": [
    "def extract_subsequences(seq):\n",
    "    \"\"\"\n",
    "    Given a sequence of length 401 with a special character at the index 200,\n",
    "    this function outputs a list of subsequences of length 201, starting with a\n",
    "    subsequence with the special character at the end and ending with a \n",
    "    subsequence with the special character at the start.\n",
    "    \"\"\"\n",
    "    # Confirm the input is of the correct length\n",
    "    if len(seq) != 401:\n",
    "        raise ValueError(\"Input sequence must have a length of 401.\")\n",
    "    \n",
    "    # Confirm there's a special character at index 200\n",
    "    special_char = seq[200]\n",
    "    \n",
    "    subsequences = []\n",
    "    for i in range(200, 401):\n",
    "        subseq = seq[i-200:i+1]\n",
    "        # Confirm the special character is in the correct position within the subsequence\n",
    "        if subseq[-(i-200+1)] != special_char:\n",
    "            raise ValueError(\"Special character not found at the expected position.\")\n",
    "        subsequences.append(subseq)\n",
    "    \n",
    "    return subsequences\n",
    "\n",
    "# EXAMPLE / TEST\n",
    "# tmp = 'a'*200 + 'X' + 'b'*200\n",
    "# print(len(tmp))\n",
    "# tmp = extract_subsequences(tmp)\n",
    "\n",
    "# print(tmp[0],tmp[1], tmp[-2], tmp[-1])\n",
    "# len(tmp[0]), len(tmp[-1])\n",
    "\n",
    "# EXAMPLE / TEST\n",
    "# tmp = sequences[0]\n",
    "# print(len(tmp))\n",
    "# tmp = extract_subsequences(tmp)\n",
    "\n",
    "# print(tmp[0],'\\n', tmp[1],'\\n',  tmp[2],'\\n',  tmp[3],'\\n',  tmp[4])\n",
    "# print(len(tmp[0]), len(tmp[-1]))"
   ]
  },
  {
   "cell_type": "code",
   "execution_count": 155,
   "id": "e8dda197-13f6-43a4-820c-f204db674402",
   "metadata": {},
   "outputs": [
    {
     "name": "stdout",
     "output_type": "stream",
     "text": [
      "lengths 401 201\n",
      "CCC CCC CGC\n",
      "\n",
      "lengths 401 201\n",
      "CCC CCC CGC\n",
      "\n",
      "lengths 401 201\n",
      "TGT TGT TAT\n",
      "\n"
     ]
    }
   ],
   "source": [
    "\n",
    "# VARIANT_POSITION = 200\n",
    "# VARIANT_POSITION = 199\n",
    "# CUT_POSITION_MODEL_INPUT = 100\n",
    "\n",
    "# shortens seq from both sides by the same amount, the middle nucleotide stays in the middle\n",
    "def shorten_seq_keep_middle(sequence, length):\n",
    "    # Shorten to desired len if longer\n",
    "    if len(sequence) > length:\n",
    "        longer_by = len(sequence) - length\n",
    "        start = longer_by//2\n",
    "        # end = (len(sequence)-longer_by//2)-1\n",
    "        end = (len(sequence)-longer_by//2)\n",
    "        shorten_sequence = sequence[start:end]\n",
    "    else:\n",
    "        return sequence\n",
    "    return shorten_sequence\n",
    "\n",
    "#TEST shorten_seq_keep_middle(sequence, length)\n",
    "for i in range(0,3):\n",
    "    tmp = sequences[i]\n",
    "    tmp_short = shorten_seq_keep_middle(tmp, 201)\n",
    "    # print(len(tmp), CUT_POSITION_MODEL_INPUT, VARIANT_POSITION)\n",
    "\n",
    "    print('lengths', len(tmp), len(tmp_short))\n",
    "    print(sequences[i][VARIANT_POSITION-1:VARIANT_POSITION+2], tmp_short[CUT_POSITION_MODEL_INPUT-1:CUT_POSITION_MODEL_INPUT+2], alt_sequences[i][VARIANT_POSITION-1:VARIANT_POSITION+2])\n",
    "    print()"
   ]
  },
  {
   "cell_type": "code",
   "execution_count": 156,
   "id": "e243f6e6-0ba7-4034-97a8-b70347be861f",
   "metadata": {},
   "outputs": [],
   "source": [
    "short_sequences = [shorten_seq_keep_middle(x, 201) for x in sequences]\n",
    "short_alt_sequences = [shorten_seq_keep_middle(x, 201) for x in alt_sequences]"
   ]
  },
  {
   "cell_type": "code",
   "execution_count": 157,
   "id": "3dc3abfc-ae0c-4c19-8eea-5beca66ccdfc",
   "metadata": {},
   "outputs": [
    {
     "name": "stdout",
     "output_type": "stream",
     "text": [
      "True\n",
      "True\n"
     ]
    }
   ],
   "source": [
    "print(all([short_sequences[i][CUT_POSITION_MODEL_INPUT] == ref_alts.values[i][0] for i in range(len(short_sequences))]))\n",
    "print(all([short_alt_sequences[i][CUT_POSITION_MODEL_INPUT] == ref_alts.values[i][2] for i in range(len(short_alt_sequences))]))"
   ]
  },
  {
   "cell_type": "code",
   "execution_count": 158,
   "id": "ed0b575d-2b7a-4d40-ac35-548dea881076",
   "metadata": {},
   "outputs": [
    {
     "data": {
      "text/plain": [
       "(201, 201)"
      ]
     },
     "execution_count": 158,
     "metadata": {},
     "output_type": "execute_result"
    }
   ],
   "source": [
    "len(short_sequences[0]), len(short_alt_sequences[0])"
   ]
  },
  {
   "cell_type": "code",
   "execution_count": 159,
   "id": "c7a821b1-917c-465e-b5a4-de0c5aabc508",
   "metadata": {},
   "outputs": [
    {
     "data": {
      "text/plain": [
       "0"
      ]
     },
     "execution_count": 159,
     "metadata": {},
     "output_type": "execute_result"
    }
   ],
   "source": [
    "short_seqs_count = 0\n",
    "for seq_list in [short_sequences, short_alt_sequences]:\n",
    "    for seq in seq_list:\n",
    "        if len(seq) < 201:\n",
    "            short_seqs_count +=1\n",
    "short_seqs_count"
   ]
  },
  {
   "cell_type": "code",
   "execution_count": 160,
   "id": "40e38acc-123a-461c-8d85-563ce1f6b880",
   "metadata": {},
   "outputs": [],
   "source": [
    "collected_seq_data_pd_loaded.sequences = short_sequences\n",
    "collected_seq_data_pd_loaded.alt_sequences = short_alt_sequences"
   ]
  },
  {
   "cell_type": "code",
   "execution_count": 161,
   "id": "2af6c402-63bd-45ae-8098-8223918ec5d0",
   "metadata": {},
   "outputs": [
    {
     "data": {
      "text/plain": [
       "0         201\n",
       "1         201\n",
       "2         201\n",
       "3         201\n",
       "4         201\n",
       "         ... \n",
       "329405    201\n",
       "329406    201\n",
       "329407    201\n",
       "329408    201\n",
       "329409    201\n",
       "Name: sequences, Length: 329346, dtype: int64"
      ]
     },
     "execution_count": 161,
     "metadata": {},
     "output_type": "execute_result"
    }
   ],
   "source": [
    "collected_seq_data_pd_loaded.sequences.str.len()"
   ]
  },
  {
   "cell_type": "code",
   "execution_count": 162,
   "id": "f9f223b4-1545-4648-b788-ea336eeed5d1",
   "metadata": {},
   "outputs": [
    {
     "data": {
      "text/html": [
       "<div>\n",
       "<style scoped>\n",
       "    .dataframe tbody tr th:only-of-type {\n",
       "        vertical-align: middle;\n",
       "    }\n",
       "\n",
       "    .dataframe tbody tr th {\n",
       "        vertical-align: top;\n",
       "    }\n",
       "\n",
       "    .dataframe thead th {\n",
       "        text-align: right;\n",
       "    }\n",
       "</style>\n",
       "<table border=\"1\" class=\"dataframe\">\n",
       "  <thead>\n",
       "    <tr style=\"text-align: right;\">\n",
       "      <th></th>\n",
       "      <th>transcript_ids</th>\n",
       "      <th>sequences</th>\n",
       "      <th>alt_sequences</th>\n",
       "      <th>ref_alts</th>\n",
       "      <th>first_codons</th>\n",
       "      <th>cut_distances_from_first_cds_nt</th>\n",
       "      <th>variant_position_relative_to_transcript</th>\n",
       "      <th>info</th>\n",
       "    </tr>\n",
       "  </thead>\n",
       "  <tbody>\n",
       "    <tr>\n",
       "      <th>0</th>\n",
       "      <td>ENST00000335137</td>\n",
       "      <td>GGCAACGCATGTGTCGGCATTATGGCTGTCACATGGGGAATTGGCT...</td>\n",
       "      <td>GGCAACGCATGTGTCGGCATTATGGCTGTCACATGGGGAATTGGCT...</td>\n",
       "      <td>C/G</td>\n",
       "      <td>ATG</td>\n",
       "      <td>490</td>\n",
       "      <td>526</td>\n",
       "      <td>ALLELEID=2238986;CLNDISDB=MeSH:D030342,MedGen:...</td>\n",
       "    </tr>\n",
       "    <tr>\n",
       "      <th>1</th>\n",
       "      <td>ENST00000641515</td>\n",
       "      <td>GGCAACGCATGTGTCGGCATTATGGCTGTCACATGGGGAATTGGCT...</td>\n",
       "      <td>GGCAACGCATGTGTCGGCATTATGGCTGTCACATGGGGAATTGGCT...</td>\n",
       "      <td>C/G</td>\n",
       "      <td>ATG</td>\n",
       "      <td>490</td>\n",
       "      <td>613</td>\n",
       "      <td>ALLELEID=2238986;CLNDISDB=MeSH:D030342,MedGen:...</td>\n",
       "    </tr>\n",
       "    <tr>\n",
       "      <th>2</th>\n",
       "      <td>ENST00000335137</td>\n",
       "      <td>CAATGAGGTCGATAGTTTTTATTGTGACCTTCCTAGGGTAATCAAA...</td>\n",
       "      <td>CAATGAGGTCGATAGTTTTTATTGTGACCTTCCTAGGGTAATCAAA...</td>\n",
       "      <td>G/A</td>\n",
       "      <td>ATG</td>\n",
       "      <td>591</td>\n",
       "      <td>627</td>\n",
       "      <td>ALLELEID=2386655;CLNDISDB=MeSH:D030342,MedGen:...</td>\n",
       "    </tr>\n",
       "    <tr>\n",
       "      <th>3</th>\n",
       "      <td>ENST00000641515</td>\n",
       "      <td>CAATGAGGTCGATAGTTTTTATTGTGACCTTCCTAGGGTAATCAAA...</td>\n",
       "      <td>CAATGAGGTCGATAGTTTTTATTGTGACCTTCCTAGGGTAATCAAA...</td>\n",
       "      <td>G/A</td>\n",
       "      <td>ATG</td>\n",
       "      <td>591</td>\n",
       "      <td>714</td>\n",
       "      <td>ALLELEID=2386655;CLNDISDB=MeSH:D030342,MedGen:...</td>\n",
       "    </tr>\n",
       "    <tr>\n",
       "      <th>4</th>\n",
       "      <td>ENST00000335137</td>\n",
       "      <td>TGCTAACAGTGGTGTGCTCACTGTGTGTTCTTTTGTTCTTCTAATC...</td>\n",
       "      <td>TGCTAACAGTGGTGTGCTCACTGTGTGTTCTTTTGTTCTTCTAATC...</td>\n",
       "      <td>T/C</td>\n",
       "      <td>ATG</td>\n",
       "      <td>678</td>\n",
       "      <td>714</td>\n",
       "      <td>ALLELEID=2278803;CLNDISDB=MeSH:D030342,MedGen:...</td>\n",
       "    </tr>\n",
       "    <tr>\n",
       "      <th>...</th>\n",
       "      <td>...</td>\n",
       "      <td>...</td>\n",
       "      <td>...</td>\n",
       "      <td>...</td>\n",
       "      <td>...</td>\n",
       "      <td>...</td>\n",
       "      <td>...</td>\n",
       "      <td>...</td>\n",
       "    </tr>\n",
       "    <tr>\n",
       "      <th>329405</th>\n",
       "      <td>ENST00000361567</td>\n",
       "      <td>AACAGCCCTAGACCTCAACTACCTAACCAACAAACTTAAAATAAAA...</td>\n",
       "      <td>AACAGCCCTAGACCTCAACTACCTAACCAACAAACTTAAAATAAAA...</td>\n",
       "      <td>A/G</td>\n",
       "      <td>ATA</td>\n",
       "      <td>1596</td>\n",
       "      <td>1596</td>\n",
       "      <td>ALLELEID=680527;CLNDISDB=MONDO:MONDO:0009723,M...</td>\n",
       "    </tr>\n",
       "    <tr>\n",
       "      <th>329406</th>\n",
       "      <td>ENST00000361567</td>\n",
       "      <td>ACAGCCCTAGACCTCAACTACCTAACCAACAAACTTAAAATAAAAT...</td>\n",
       "      <td>ACAGCCCTAGACCTCAACTACCTAACCAACAAACTTAAAATAAAAT...</td>\n",
       "      <td>C/T</td>\n",
       "      <td>ATA</td>\n",
       "      <td>1597</td>\n",
       "      <td>1597</td>\n",
       "      <td>ALLELEID=680528;CLNDISDB=MONDO:MONDO:0009723,M...</td>\n",
       "    </tr>\n",
       "    <tr>\n",
       "      <th>329407</th>\n",
       "      <td>ENST00000361567</td>\n",
       "      <td>GACCTCAACTACCTAACCAACAAACTTAAAATAAAATCCCCACTAT...</td>\n",
       "      <td>GACCTCAACTACCTAACCAACAAACTTAAAATAAAATCCCCACTAT...</td>\n",
       "      <td>C/T</td>\n",
       "      <td>ATA</td>\n",
       "      <td>1606</td>\n",
       "      <td>1606</td>\n",
       "      <td>ALLELEID=680529;CLNDISDB=MONDO:MONDO:0009723,M...</td>\n",
       "    </tr>\n",
       "    <tr>\n",
       "      <th>329408</th>\n",
       "      <td>ENST00000361567</td>\n",
       "      <td>CTCAACTACCTAACCAACAAACTTAAAATAAAATCCCCACTATGCA...</td>\n",
       "      <td>CTCAACTACCTAACCAACAAACTTAAAATAAAATCCCCACTATGCA...</td>\n",
       "      <td>T/C</td>\n",
       "      <td>ATA</td>\n",
       "      <td>1609</td>\n",
       "      <td>1609</td>\n",
       "      <td>ALLELEID=680530;CLNDISDB=MONDO:MONDO:0009723,M...</td>\n",
       "    </tr>\n",
       "    <tr>\n",
       "      <th>329409</th>\n",
       "      <td>ENST00000361567</td>\n",
       "      <td>CAACTACCTAACCAACAAACTTAAAATAAAATCCCCACTATGCACA...</td>\n",
       "      <td>CAACTACCTAACCAACAAACTTAAAATAAAATCCCCACTATGCACA...</td>\n",
       "      <td>C/T</td>\n",
       "      <td>ATA</td>\n",
       "      <td>1611</td>\n",
       "      <td>1611</td>\n",
       "      <td>ALLELEID=680531;CLNDISDB=MONDO:MONDO:0009723,M...</td>\n",
       "    </tr>\n",
       "  </tbody>\n",
       "</table>\n",
       "<p>329346 rows × 8 columns</p>\n",
       "</div>"
      ],
      "text/plain": [
       "         transcript_ids                                          sequences  \\\n",
       "0       ENST00000335137  GGCAACGCATGTGTCGGCATTATGGCTGTCACATGGGGAATTGGCT...   \n",
       "1       ENST00000641515  GGCAACGCATGTGTCGGCATTATGGCTGTCACATGGGGAATTGGCT...   \n",
       "2       ENST00000335137  CAATGAGGTCGATAGTTTTTATTGTGACCTTCCTAGGGTAATCAAA...   \n",
       "3       ENST00000641515  CAATGAGGTCGATAGTTTTTATTGTGACCTTCCTAGGGTAATCAAA...   \n",
       "4       ENST00000335137  TGCTAACAGTGGTGTGCTCACTGTGTGTTCTTTTGTTCTTCTAATC...   \n",
       "...                 ...                                                ...   \n",
       "329405  ENST00000361567  AACAGCCCTAGACCTCAACTACCTAACCAACAAACTTAAAATAAAA...   \n",
       "329406  ENST00000361567  ACAGCCCTAGACCTCAACTACCTAACCAACAAACTTAAAATAAAAT...   \n",
       "329407  ENST00000361567  GACCTCAACTACCTAACCAACAAACTTAAAATAAAATCCCCACTAT...   \n",
       "329408  ENST00000361567  CTCAACTACCTAACCAACAAACTTAAAATAAAATCCCCACTATGCA...   \n",
       "329409  ENST00000361567  CAACTACCTAACCAACAAACTTAAAATAAAATCCCCACTATGCACA...   \n",
       "\n",
       "                                            alt_sequences ref_alts  \\\n",
       "0       GGCAACGCATGTGTCGGCATTATGGCTGTCACATGGGGAATTGGCT...      C/G   \n",
       "1       GGCAACGCATGTGTCGGCATTATGGCTGTCACATGGGGAATTGGCT...      C/G   \n",
       "2       CAATGAGGTCGATAGTTTTTATTGTGACCTTCCTAGGGTAATCAAA...      G/A   \n",
       "3       CAATGAGGTCGATAGTTTTTATTGTGACCTTCCTAGGGTAATCAAA...      G/A   \n",
       "4       TGCTAACAGTGGTGTGCTCACTGTGTGTTCTTTTGTTCTTCTAATC...      T/C   \n",
       "...                                                   ...      ...   \n",
       "329405  AACAGCCCTAGACCTCAACTACCTAACCAACAAACTTAAAATAAAA...      A/G   \n",
       "329406  ACAGCCCTAGACCTCAACTACCTAACCAACAAACTTAAAATAAAAT...      C/T   \n",
       "329407  GACCTCAACTACCTAACCAACAAACTTAAAATAAAATCCCCACTAT...      C/T   \n",
       "329408  CTCAACTACCTAACCAACAAACTTAAAATAAAATCCCCACTATGCA...      T/C   \n",
       "329409  CAACTACCTAACCAACAAACTTAAAATAAAATCCCCACTATGCACA...      C/T   \n",
       "\n",
       "       first_codons cut_distances_from_first_cds_nt  \\\n",
       "0               ATG                             490   \n",
       "1               ATG                             490   \n",
       "2               ATG                             591   \n",
       "3               ATG                             591   \n",
       "4               ATG                             678   \n",
       "...             ...                             ...   \n",
       "329405          ATA                            1596   \n",
       "329406          ATA                            1597   \n",
       "329407          ATA                            1606   \n",
       "329408          ATA                            1609   \n",
       "329409          ATA                            1611   \n",
       "\n",
       "       variant_position_relative_to_transcript  \\\n",
       "0                                          526   \n",
       "1                                          613   \n",
       "2                                          627   \n",
       "3                                          714   \n",
       "4                                          714   \n",
       "...                                        ...   \n",
       "329405                                    1596   \n",
       "329406                                    1597   \n",
       "329407                                    1606   \n",
       "329408                                    1609   \n",
       "329409                                    1611   \n",
       "\n",
       "                                                     info  \n",
       "0       ALLELEID=2238986;CLNDISDB=MeSH:D030342,MedGen:...  \n",
       "1       ALLELEID=2238986;CLNDISDB=MeSH:D030342,MedGen:...  \n",
       "2       ALLELEID=2386655;CLNDISDB=MeSH:D030342,MedGen:...  \n",
       "3       ALLELEID=2386655;CLNDISDB=MeSH:D030342,MedGen:...  \n",
       "4       ALLELEID=2278803;CLNDISDB=MeSH:D030342,MedGen:...  \n",
       "...                                                   ...  \n",
       "329405  ALLELEID=680527;CLNDISDB=MONDO:MONDO:0009723,M...  \n",
       "329406  ALLELEID=680528;CLNDISDB=MONDO:MONDO:0009723,M...  \n",
       "329407  ALLELEID=680529;CLNDISDB=MONDO:MONDO:0009723,M...  \n",
       "329408  ALLELEID=680530;CLNDISDB=MONDO:MONDO:0009723,M...  \n",
       "329409  ALLELEID=680531;CLNDISDB=MONDO:MONDO:0009723,M...  \n",
       "\n",
       "[329346 rows x 8 columns]"
      ]
     },
     "execution_count": 162,
     "metadata": {},
     "output_type": "execute_result"
    }
   ],
   "source": [
    "collected_seq_data_pd_loaded"
   ]
  },
  {
   "cell_type": "code",
   "execution_count": 163,
   "id": "b7bc4ee4-09a8-4d23-aa72-175bbf7a5e61",
   "metadata": {},
   "outputs": [],
   "source": [
    "collected_seq_data_pd_loaded.to_pickle(\"variant_sequences_details.shortened_sequences.pkl\")"
   ]
  },
  {
   "cell_type": "markdown",
   "id": "53a1f763-86b9-474d-9e9e-4f4dc22efb29",
   "metadata": {},
   "source": [
    "### Evaluate sequences"
   ]
  },
  {
   "cell_type": "markdown",
   "id": "0e20dbd6-d57d-425c-a176-693769a78592",
   "metadata": {},
   "source": [
    "#### Params"
   ]
  },
  {
   "cell_type": "code",
   "execution_count": 164,
   "id": "a4976547-8612-4a05-bc38-70bedbfe8556",
   "metadata": {},
   "outputs": [],
   "source": [
    "import numpy as np\n",
    "\n",
    "SEED=42\n",
    "np.random.seed(SEED)\n",
    "\n",
    "K = 6\n",
    "STRIDE = 1\n",
    "MODEL_NAME = \"simecek/DNADebertaK6c\"\n",
    "TOKENIZER_NAME = \"armheb/DNA_bert_6\"\n",
    "\n",
    "LOAD_NAME = 'rad5cds_local.max.ds2to11_adaptive_wd0.1.pth'\n"
   ]
  },
  {
   "cell_type": "markdown",
   "id": "82b76cd8-3b9d-4c7a-a99f-78998f592276",
   "metadata": {},
   "source": [
    "#### Preprocess"
   ]
  },
  {
   "cell_type": "code",
   "execution_count": 165,
   "id": "525824e3-c4d8-41b1-9290-445193f6317f",
   "metadata": {},
   "outputs": [
    {
     "name": "stderr",
     "output_type": "stream",
     "text": [
      "Explicitly passing a `revision` is encouraged when loading a configuration with custom code to ensure no malicious code has been contributed in a newer revision.\n"
     ]
    }
   ],
   "source": [
    "from transformers import AutoTokenizer\n",
    "\n",
    "tokenizer = AutoTokenizer.from_pretrained(TOKENIZER_NAME, trust_remote_code=True)"
   ]
  },
  {
   "cell_type": "code",
   "execution_count": 166,
   "id": "2bcd8dea-13b1-469d-b529-c677975c804d",
   "metadata": {},
   "outputs": [],
   "source": [
    "def kmers_stride1(s, k=K):\n",
    "    return [s[i:i + k] for i in range(0, len(s)-k+1)]\n",
    "\n",
    "def tok_func(x): return tokenizer(\" \".join(kmers_stride1(x[\"seq\"])), truncation=True)\n"
   ]
  },
  {
   "cell_type": "code",
   "execution_count": 167,
   "id": "c188d899-77c1-423d-92d6-55f6ee0e3e3c",
   "metadata": {},
   "outputs": [],
   "source": [
    "from datasets import Dataset, DatasetDict\n",
    "import pandas as pd\n",
    "\n",
    "# ref_alt_num is 0 for reference sequences and 1 for alternatives from VCF, this is only a commment, it will not be used; \n",
    "#as we do not know the label for these sequences\n",
    "def tokenize_sequences(x_test, ref_alt_num):\n",
    "    # function used for the actual tokenization\n",
    "    tmp_dict_test = {}\n",
    "    # TEST\n",
    "    for index, x in enumerate(x_test):\n",
    "        tmp_dict_test[f\"{index}\"] = (\"test\", ref_alt_num, x)\n",
    "\n",
    "    df = pd.DataFrame.from_dict(tmp_dict_test).T.rename(columns = {0: \"dset\", 1: \"cat\", 2: \"seq\"})\n",
    "\n",
    "    df['seq'] = [''.join(map(str, l)) for l in df['seq']]\n",
    "    \n",
    "    return df"
   ]
  },
  {
   "cell_type": "code",
   "execution_count": 168,
   "id": "4a08092a-0e3c-472d-a86f-a3df42cf96d0",
   "metadata": {},
   "outputs": [],
   "source": [
    "df_ref = tokenize_sequences(short_sequences, 0)"
   ]
  },
  {
   "cell_type": "code",
   "execution_count": 169,
   "id": "1bc9f8e4-fba4-4878-946f-16f04add14c2",
   "metadata": {},
   "outputs": [
    {
     "data": {
      "text/html": [
       "<div>\n",
       "<style scoped>\n",
       "    .dataframe tbody tr th:only-of-type {\n",
       "        vertical-align: middle;\n",
       "    }\n",
       "\n",
       "    .dataframe tbody tr th {\n",
       "        vertical-align: top;\n",
       "    }\n",
       "\n",
       "    .dataframe thead th {\n",
       "        text-align: right;\n",
       "    }\n",
       "</style>\n",
       "<table border=\"1\" class=\"dataframe\">\n",
       "  <thead>\n",
       "    <tr style=\"text-align: right;\">\n",
       "      <th></th>\n",
       "      <th>dset</th>\n",
       "      <th>cat</th>\n",
       "      <th>seq</th>\n",
       "    </tr>\n",
       "  </thead>\n",
       "  <tbody>\n",
       "    <tr>\n",
       "      <th>0</th>\n",
       "      <td>test</td>\n",
       "      <td>0</td>\n",
       "      <td>GGCAACGCATGTGTCGGCATTATGGCTGTCACATGGGGAATTGGCT...</td>\n",
       "    </tr>\n",
       "    <tr>\n",
       "      <th>1</th>\n",
       "      <td>test</td>\n",
       "      <td>0</td>\n",
       "      <td>GGCAACGCATGTGTCGGCATTATGGCTGTCACATGGGGAATTGGCT...</td>\n",
       "    </tr>\n",
       "    <tr>\n",
       "      <th>2</th>\n",
       "      <td>test</td>\n",
       "      <td>0</td>\n",
       "      <td>CAATGAGGTCGATAGTTTTTATTGTGACCTTCCTAGGGTAATCAAA...</td>\n",
       "    </tr>\n",
       "    <tr>\n",
       "      <th>3</th>\n",
       "      <td>test</td>\n",
       "      <td>0</td>\n",
       "      <td>CAATGAGGTCGATAGTTTTTATTGTGACCTTCCTAGGGTAATCAAA...</td>\n",
       "    </tr>\n",
       "    <tr>\n",
       "      <th>4</th>\n",
       "      <td>test</td>\n",
       "      <td>0</td>\n",
       "      <td>TGCTAACAGTGGTGTGCTCACTGTGTGTTCTTTTGTTCTTCTAATC...</td>\n",
       "    </tr>\n",
       "  </tbody>\n",
       "</table>\n",
       "</div>"
      ],
      "text/plain": [
       "   dset cat                                                seq\n",
       "0  test   0  GGCAACGCATGTGTCGGCATTATGGCTGTCACATGGGGAATTGGCT...\n",
       "1  test   0  GGCAACGCATGTGTCGGCATTATGGCTGTCACATGGGGAATTGGCT...\n",
       "2  test   0  CAATGAGGTCGATAGTTTTTATTGTGACCTTCCTAGGGTAATCAAA...\n",
       "3  test   0  CAATGAGGTCGATAGTTTTTATTGTGACCTTCCTAGGGTAATCAAA...\n",
       "4  test   0  TGCTAACAGTGGTGTGCTCACTGTGTGTTCTTTTGTTCTTCTAATC..."
      ]
     },
     "execution_count": 169,
     "metadata": {},
     "output_type": "execute_result"
    }
   ],
   "source": [
    "df_ref.head()"
   ]
  },
  {
   "cell_type": "code",
   "execution_count": 170,
   "id": "485e50e2-f87b-48cf-92ee-2a43547e399b",
   "metadata": {},
   "outputs": [],
   "source": [
    "df_alt = tokenize_sequences(short_alt_sequences, 1)"
   ]
  },
  {
   "cell_type": "code",
   "execution_count": 171,
   "id": "2101cf7e-df62-4f79-a384-5fa30d74430e",
   "metadata": {},
   "outputs": [
    {
     "data": {
      "text/html": [
       "<div>\n",
       "<style scoped>\n",
       "    .dataframe tbody tr th:only-of-type {\n",
       "        vertical-align: middle;\n",
       "    }\n",
       "\n",
       "    .dataframe tbody tr th {\n",
       "        vertical-align: top;\n",
       "    }\n",
       "\n",
       "    .dataframe thead th {\n",
       "        text-align: right;\n",
       "    }\n",
       "</style>\n",
       "<table border=\"1\" class=\"dataframe\">\n",
       "  <thead>\n",
       "    <tr style=\"text-align: right;\">\n",
       "      <th></th>\n",
       "      <th>dset</th>\n",
       "      <th>cat</th>\n",
       "      <th>seq</th>\n",
       "    </tr>\n",
       "  </thead>\n",
       "  <tbody>\n",
       "    <tr>\n",
       "      <th>0</th>\n",
       "      <td>test</td>\n",
       "      <td>1</td>\n",
       "      <td>GGCAACGCATGTGTCGGCATTATGGCTGTCACATGGGGAATTGGCT...</td>\n",
       "    </tr>\n",
       "    <tr>\n",
       "      <th>1</th>\n",
       "      <td>test</td>\n",
       "      <td>1</td>\n",
       "      <td>GGCAACGCATGTGTCGGCATTATGGCTGTCACATGGGGAATTGGCT...</td>\n",
       "    </tr>\n",
       "    <tr>\n",
       "      <th>2</th>\n",
       "      <td>test</td>\n",
       "      <td>1</td>\n",
       "      <td>CAATGAGGTCGATAGTTTTTATTGTGACCTTCCTAGGGTAATCAAA...</td>\n",
       "    </tr>\n",
       "    <tr>\n",
       "      <th>3</th>\n",
       "      <td>test</td>\n",
       "      <td>1</td>\n",
       "      <td>CAATGAGGTCGATAGTTTTTATTGTGACCTTCCTAGGGTAATCAAA...</td>\n",
       "    </tr>\n",
       "    <tr>\n",
       "      <th>4</th>\n",
       "      <td>test</td>\n",
       "      <td>1</td>\n",
       "      <td>TGCTAACAGTGGTGTGCTCACTGTGTGTTCTTTTGTTCTTCTAATC...</td>\n",
       "    </tr>\n",
       "  </tbody>\n",
       "</table>\n",
       "</div>"
      ],
      "text/plain": [
       "   dset cat                                                seq\n",
       "0  test   1  GGCAACGCATGTGTCGGCATTATGGCTGTCACATGGGGAATTGGCT...\n",
       "1  test   1  GGCAACGCATGTGTCGGCATTATGGCTGTCACATGGGGAATTGGCT...\n",
       "2  test   1  CAATGAGGTCGATAGTTTTTATTGTGACCTTCCTAGGGTAATCAAA...\n",
       "3  test   1  CAATGAGGTCGATAGTTTTTATTGTGACCTTCCTAGGGTAATCAAA...\n",
       "4  test   1  TGCTAACAGTGGTGTGCTCACTGTGTGTTCTTTTGTTCTTCTAATC..."
      ]
     },
     "execution_count": 171,
     "metadata": {},
     "output_type": "execute_result"
    }
   ],
   "source": [
    "df_alt.head()"
   ]
  },
  {
   "cell_type": "code",
   "execution_count": 172,
   "id": "0ca22cc9-0f23-4614-8068-6bd1f97baf76",
   "metadata": {},
   "outputs": [],
   "source": [
    "for seq in df_alt['seq'].tolist():\n",
    "    if len(seq) < 201:\n",
    "        print(len(seq), seq)"
   ]
  },
  {
   "cell_type": "code",
   "execution_count": 173,
   "id": "8b92e77d-fa71-46c4-b3d5-2bf52f1bd8cc",
   "metadata": {},
   "outputs": [],
   "source": [
    "def tokenize(batch):\n",
    "    tokenized = [tokenizer(\" \".join(kmers_stride1(x)), truncation=True) for x in batch]\n",
    "    grouped = {\n",
    "        'input_ids':[],\n",
    "        'attention_mask':[],\n",
    "    }\n",
    "    for seq_dict in tokenized:\n",
    "        for key, seq in seq_dict.items():\n",
    "            if key in ['input_ids', 'attention_mask']:\n",
    "                grouped[key].append(seq)\n",
    "    \n",
    "    return grouped"
   ]
  },
  {
   "cell_type": "code",
   "execution_count": 174,
   "id": "f48a1029-7329-4924-8a39-57ff92c881ee",
   "metadata": {},
   "outputs": [],
   "source": [
    "import evaluate\n",
    "from random import random, randrange\n",
    "from transformers import AutoModelForSequenceClassification\n",
    "import torch\n",
    "from datasets import load_metric\n",
    "\n",
    "\n",
    "binary_metrics = evaluate.combine([\n",
    "    'accuracy',\n",
    "    'f1',\n",
    "    'recall',\n",
    "    'precision',\n",
    "    #Order of roc_auc matters for logging -> macro first, then weighted\n",
    "    evaluate.load('roc_auc', average='macro'),\n",
    "    evaluate.load('roc_auc', average='weighted'),\n",
    "    evaluate.load(\"Vlasta/pr_auc\"),\n",
    "])\n",
    "\n",
    "def compute_metrics_binary(eval_preds):\n",
    "    logits, labels = eval_preds\n",
    "    prediction_scores = torch.nn.functional.softmax(\n",
    "        torch.from_numpy(logits).double(), dim=-1).numpy() \n",
    "    # predictions = np.argmax(logits, axis=-1) #equivalent\n",
    "    predictions = np.argmax(prediction_scores, axis=-1)\n",
    "    return binary_metrics.compute(\n",
    "        predictions=predictions, \n",
    "        references=labels, \n",
    "        prediction_scores=prediction_scores[:,1] #taking only prediction percentage for the label 1\n",
    "    )"
   ]
  },
  {
   "cell_type": "code",
   "execution_count": 175,
   "id": "35ee700e-e4e1-4ecd-a45b-ee51fd419a8c",
   "metadata": {},
   "outputs": [],
   "source": [
    "num_of_labels=2\n",
    "compute_metrics = compute_metrics_binary if num_of_labels == 2 else compute_metrics_multi"
   ]
  },
  {
   "cell_type": "code",
   "execution_count": 176,
   "id": "7a3fb72b-4a97-45e5-bfcd-48632079c592",
   "metadata": {},
   "outputs": [],
   "source": [
    "model = torch.load(LOAD_NAME)"
   ]
  },
  {
   "cell_type": "code",
   "execution_count": 177,
   "id": "b3794c25-be51-401c-8d91-30384443a410",
   "metadata": {},
   "outputs": [
    {
     "data": {
      "text/plain": [
       "device(type='cuda')"
      ]
     },
     "execution_count": 177,
     "metadata": {},
     "output_type": "execute_result"
    }
   ],
   "source": [
    "device = torch.device(\"cuda\" if torch.cuda.is_available() else \"cpu\")\n",
    "device"
   ]
  },
  {
   "cell_type": "code",
   "execution_count": 178,
   "id": "e9540994-d827-4298-ae9f-5de129a7c9e5",
   "metadata": {},
   "outputs": [
    {
     "name": "stdout",
     "output_type": "stream",
     "text": [
      "10293 32\n",
      "10293 32\n"
     ]
    },
    {
     "name": "stderr",
     "output_type": "stream",
     "text": [
      "/tmp/ipykernel_66/2580147840.py:26: FutureWarning: The behavior of `series[i:j]` with an integer-dtype index is deprecated. In a future version, this will be treated as *label-based* indexing, consistent with e.g. `series[i]` lookups. To retain the old behavior, use `series.iloc[i:j]`. To get the future behavior, use `series.loc[i:j]`.\n",
      "  ref_alts_short = ref_alts[:len(batched_sequences_ref)*len(batched_sequences_ref[0])]\n"
     ]
    }
   ],
   "source": [
    "from scipy.special import softmax\n",
    "\n",
    "def batch_sequences(df, ref_alts, batch_size = 32):\n",
    "    # Debug: this is just to shorten the dataset for debug purposes\n",
    "    # number_of_batches = 10\n",
    "    # dataframe = pd.concat([df_test.iloc[:batch_size*number_of_batches], df_test.iloc[len(df_test)-(batch_size*number_of_batches):len(df_test)]], ignore_index=False)\n",
    "    # dataframe = df.iloc[:batch_size*number_of_batches]\n",
    "    dataframe = df\n",
    "    \n",
    "    # Split sequences into batches\n",
    "    num_batches = (len(dataframe['seq'].tolist()) + batch_size - 1) // batch_size\n",
    "    batched_sequences = [dataframe['seq'].tolist()[i*batch_size:(i+1)*batch_size] for i in range(num_batches)]\n",
    "    \n",
    "    print(\n",
    "        len(batched_sequences),\n",
    "        len(batched_sequences[0])\n",
    "    )\n",
    "    return batched_sequences\n",
    "\n",
    "\n",
    "batch_size = 32\n",
    "batched_sequences_ref = batch_sequences(df_ref, batch_size)\n",
    "batched_sequences_alt = batch_sequences(df_alt, batch_size)\n",
    "\n",
    "# TODO is this correct? cutting the sequence shorter from the end seems wrong\n",
    "ref_alts_short = ref_alts[:len(batched_sequences_ref)*len(batched_sequences_ref[0])]"
   ]
  },
  {
   "cell_type": "code",
   "execution_count": 179,
   "id": "f8cbcbd2-f61d-4f1f-99d6-8b4955ee2a6b",
   "metadata": {},
   "outputs": [],
   "source": [
    "# DEBUG\n",
    "tmp = []\n",
    "for batch in batched_sequences_alt:\n",
    "    try:\n",
    "        inputs = tokenize(np.array(batch))\n",
    "        input_ids = torch.Tensor(inputs['input_ids']).int().to(device)\n",
    "    except Exception as e: \n",
    "        tmp.append(batch)\n",
    "        print(e)"
   ]
  },
  {
   "cell_type": "code",
   "execution_count": 180,
   "id": "4976b2f0-1f81-4115-837c-c80ff73d3f1e",
   "metadata": {},
   "outputs": [],
   "source": [
    "# DEBUG\n",
    "tokenized_batch = None\n",
    "for batch in tmp:\n",
    "    inputs = tokenize(np.array(batch))\n",
    "    tokenized_batch = inputs\n",
    "    for i, sample in enumerate(inputs['input_ids']):\n",
    "        # print(len(sample), i)\n",
    "        if len(sample) != len(inputs['input_ids'][i-1]):\n",
    "            print(batch[i-1][100])\n",
    "            print(batch[i][100])\n",
    "\n",
    "# print(\n",
    "#     tokenized_batch['input_ids'][10],\n",
    "#     '\\n',\n",
    "#     '\\n',\n",
    "#     tokenized_batch['input_ids'][11],\n",
    "#     '\\n',\n",
    "#     '\\n',\n",
    "#     np.where(tokenized_batch['input_ids'][11] == 1),\n",
    "#     '\\n',\n",
    "#     '\\n',\n",
    "# )\n",
    "# tmp[0][11][90:110]\n"
   ]
  },
  {
   "cell_type": "code",
   "execution_count": 181,
   "id": "e45445a3-8a0a-4743-b980-e27812493e5c",
   "metadata": {},
   "outputs": [],
   "source": [
    "def predict(batched_input, model, device):\n",
    "    model.to(device)\n",
    "    model.eval()\n",
    "\n",
    "    # Predict in batches\n",
    "    all_predictions = []\n",
    "    outputs = []\n",
    "    i = 0\n",
    "    for batch in batched_input:\n",
    "        inputs = tokenize(np.array(batch))\n",
    "\n",
    "        input_ids = torch.Tensor(inputs['input_ids']).int().to(device)\n",
    "        attention_mask = torch.Tensor(inputs['attention_mask']).int().to(device)\n",
    "\n",
    "        with torch.no_grad():\n",
    "            outputs = model(input_ids, attention_mask=attention_mask)\n",
    "            logits = outputs.logits\n",
    "\n",
    "        prediction_scores = torch.nn.functional.softmax(\n",
    "            torch.from_numpy(logits.cpu().numpy()).double(), dim=-1).numpy() \n",
    "        predictions = prediction_scores[:,1] #taking only prediction percentage for the label 1\n",
    "        all_predictions.extend(predictions)  \n",
    "\n",
    "        i+=1\n",
    "        if i % 1000 == 0:\n",
    "            print(i)\n",
    "            \n",
    "    return all_predictions"
   ]
  },
  {
   "cell_type": "code",
   "execution_count": 182,
   "id": "adb734a0-0c1b-43dc-9ef8-fdfbcd003b6c",
   "metadata": {},
   "outputs": [
    {
     "name": "stdout",
     "output_type": "stream",
     "text": [
      "1000\n",
      "2000\n",
      "3000\n",
      "4000\n",
      "5000\n",
      "6000\n",
      "7000\n",
      "8000\n",
      "9000\n",
      "10000\n"
     ]
    }
   ],
   "source": [
    "ref_predictions = predict(batched_sequences_ref, model, device)"
   ]
  },
  {
   "cell_type": "code",
   "execution_count": 183,
   "id": "07e0c71a-a128-4707-b9ae-dbcba5587409",
   "metadata": {},
   "outputs": [
    {
     "name": "stdout",
     "output_type": "stream",
     "text": [
      "1000\n",
      "2000\n",
      "3000\n",
      "4000\n",
      "5000\n",
      "6000\n",
      "7000\n",
      "8000\n",
      "9000\n",
      "10000\n"
     ]
    }
   ],
   "source": [
    "alt_predictions = predict(batched_sequences_alt, model, device)"
   ]
  },
  {
   "cell_type": "code",
   "execution_count": 184,
   "id": "f306c30d-1da7-4983-8d06-22679d9a94ec",
   "metadata": {},
   "outputs": [
    {
     "data": {
      "text/plain": [
       "(329346, 329346)"
      ]
     },
     "execution_count": 184,
     "metadata": {},
     "output_type": "execute_result"
    }
   ],
   "source": [
    "len(ref_predictions), len(alt_predictions)"
   ]
  },
  {
   "cell_type": "code",
   "execution_count": 185,
   "id": "e68550d6-0443-4fcc-8332-1af5052398fa",
   "metadata": {},
   "outputs": [],
   "source": [
    "# Create the result dataframe\n",
    "# result_df = pd.DataFrame({\n",
    "#     'prediction_diff': [abs(x-y) for (x,y) in zip(ref_predictions, alt_predictions)],\n",
    "#     'ref_alt': ref_alts_short,\n",
    "#     'ref_sequence': [seq for sublist in batched_sequences_ref for seq in sublist],\n",
    "#     'ref_pred': ref_predictions,\n",
    "#     'alt_sequence': [seq for sublist in batched_sequences_alt for seq in sublist],\n",
    "#     'alt_pred': alt_predictions,\n",
    "# })\n",
    "\n",
    "collected_seq_data_pd_loaded['ref_pred'] = ref_predictions\n",
    "collected_seq_data_pd_loaded['alt_pred'] = alt_predictions\n",
    "collected_seq_data_pd_loaded['prediction_diff'] = [abs(x-y) for (x,y) in zip(ref_predictions, alt_predictions)]"
   ]
  },
  {
   "cell_type": "code",
   "execution_count": 186,
   "id": "0f8a4d4b-bae5-46eb-a604-ff44376edbb2",
   "metadata": {},
   "outputs": [],
   "source": [
    "result_path = dataset_name + '.variant_sequences_details.stats.pkl'\n",
    "collected_seq_data_pd_loaded.to_pickle(result_path)"
   ]
  },
  {
   "cell_type": "code",
   "execution_count": 187,
   "id": "b0238b16-e1fd-4d7b-a62a-2edf99334bde",
   "metadata": {},
   "outputs": [
    {
     "data": {
      "text/plain": [
       "'clinvar_snps.variant_sequences_details.stats.pkl'"
      ]
     },
     "execution_count": 187,
     "metadata": {},
     "output_type": "execute_result"
    }
   ],
   "source": [
    "result_path"
   ]
  },
  {
   "cell_type": "code",
   "execution_count": 188,
   "id": "b5f556c3-c4d3-46dc-be6c-d827a77b6648",
   "metadata": {},
   "outputs": [
    {
     "data": {
      "text/plain": [
       "'clinvar_snps'"
      ]
     },
     "execution_count": 188,
     "metadata": {},
     "output_type": "execute_result"
    }
   ],
   "source": [
    "dataset_name"
   ]
  },
  {
   "cell_type": "code",
   "execution_count": 189,
   "id": "3598d4d0-b32b-46ec-90d7-712e60aab718",
   "metadata": {},
   "outputs": [
    {
     "data": {
      "text/html": [
       "<div>\n",
       "<style scoped>\n",
       "    .dataframe tbody tr th:only-of-type {\n",
       "        vertical-align: middle;\n",
       "    }\n",
       "\n",
       "    .dataframe tbody tr th {\n",
       "        vertical-align: top;\n",
       "    }\n",
       "\n",
       "    .dataframe thead th {\n",
       "        text-align: right;\n",
       "    }\n",
       "</style>\n",
       "<table border=\"1\" class=\"dataframe\">\n",
       "  <thead>\n",
       "    <tr style=\"text-align: right;\">\n",
       "      <th></th>\n",
       "      <th>transcript_ids</th>\n",
       "      <th>sequences</th>\n",
       "      <th>alt_sequences</th>\n",
       "      <th>ref_alts</th>\n",
       "      <th>first_codons</th>\n",
       "      <th>cut_distances_from_first_cds_nt</th>\n",
       "      <th>variant_position_relative_to_transcript</th>\n",
       "      <th>info</th>\n",
       "      <th>ref_pred</th>\n",
       "      <th>alt_pred</th>\n",
       "      <th>prediction_diff</th>\n",
       "    </tr>\n",
       "  </thead>\n",
       "  <tbody>\n",
       "    <tr>\n",
       "      <th>28417</th>\n",
       "      <td>ENST00000233146</td>\n",
       "      <td>GCCGGACGCCGCTCGGGGGACGTGGGAGGGGAGGCGGGAAACAGCT...</td>\n",
       "      <td>GCCGGACGCCGCTCGGGGGACGTGGGAGGGGAGGCGGGAAACAGCT...</td>\n",
       "      <td>A/C</td>\n",
       "      <td>ATG</td>\n",
       "      <td>0</td>\n",
       "      <td>223</td>\n",
       "      <td>ALLELEID=96307;CLNDISDB=MeSH:D003123,MedGen:C0...</td>\n",
       "      <td>0.869643</td>\n",
       "      <td>0.047000</td>\n",
       "      <td>0.822643</td>\n",
       "    </tr>\n",
       "    <tr>\n",
       "      <th>28419</th>\n",
       "      <td>ENST00000233146</td>\n",
       "      <td>GCCGGACGCCGCTCGGGGGACGTGGGAGGGGAGGCGGGAAACAGCT...</td>\n",
       "      <td>GCCGGACGCCGCTCGGGGGACGTGGGAGGGGAGGCGGGAAACAGCT...</td>\n",
       "      <td>A/T</td>\n",
       "      <td>ATG</td>\n",
       "      <td>0</td>\n",
       "      <td>223</td>\n",
       "      <td>ALLELEID=96309;CLNDISDB=MeSH:D003123,MedGen:C0...</td>\n",
       "      <td>0.869643</td>\n",
       "      <td>0.060208</td>\n",
       "      <td>0.809435</td>\n",
       "    </tr>\n",
       "    <tr>\n",
       "      <th>223044</th>\n",
       "      <td>ENST00000544455</td>\n",
       "      <td>AAAAATTTGCCAAACGAAAATTATGGCAGGTTGTTACGAGGCATTG...</td>\n",
       "      <td>AAAAATTTGCCAAACGAAAATTATGGCAGGTTGTTACGAGGCATTG...</td>\n",
       "      <td>C/G</td>\n",
       "      <td>ATG</td>\n",
       "      <td>5745</td>\n",
       "      <td>5972</td>\n",
       "      <td>ALLELEID=1499555;CLNDISDB=MONDO:MONDO:0003582,...</td>\n",
       "      <td>0.056945</td>\n",
       "      <td>0.835344</td>\n",
       "      <td>0.778399</td>\n",
       "    </tr>\n",
       "    <tr>\n",
       "      <th>223043</th>\n",
       "      <td>ENST00000380152</td>\n",
       "      <td>AAAAATTTGCCAAACGAAAATTATGGCAGGTTGTTACGAGGCATTG...</td>\n",
       "      <td>AAAAATTTGCCAAACGAAAATTATGGCAGGTTGTTACGAGGCATTG...</td>\n",
       "      <td>C/G</td>\n",
       "      <td>ATG</td>\n",
       "      <td>5745</td>\n",
       "      <td>5978</td>\n",
       "      <td>ALLELEID=1499555;CLNDISDB=MONDO:MONDO:0003582,...</td>\n",
       "      <td>0.056945</td>\n",
       "      <td>0.835344</td>\n",
       "      <td>0.778399</td>\n",
       "    </tr>\n",
       "    <tr>\n",
       "      <th>114291</th>\n",
       "      <td>ENST00000508376</td>\n",
       "      <td>TGTATTGTGTTGAAGGGACACCTATAAACTTTTCCACAGCTACATC...</td>\n",
       "      <td>TGTATTGTGTTGAAGGGACACCTATAAACTTTTCCACAGCTACATC...</td>\n",
       "      <td>A/C</td>\n",
       "      <td>ATG</td>\n",
       "      <td>5021</td>\n",
       "      <td>5178</td>\n",
       "      <td>ALLELEID=1600689;CLNDISDB=MONDO:MONDO:0021056,...</td>\n",
       "      <td>0.874237</td>\n",
       "      <td>0.121534</td>\n",
       "      <td>0.752703</td>\n",
       "    </tr>\n",
       "    <tr>\n",
       "      <th>...</th>\n",
       "      <td>...</td>\n",
       "      <td>...</td>\n",
       "      <td>...</td>\n",
       "      <td>...</td>\n",
       "      <td>...</td>\n",
       "      <td>...</td>\n",
       "      <td>...</td>\n",
       "      <td>...</td>\n",
       "      <td>...</td>\n",
       "      <td>...</td>\n",
       "      <td>...</td>\n",
       "    </tr>\n",
       "    <tr>\n",
       "      <th>35242</th>\n",
       "      <td>ENST00000540021</td>\n",
       "      <td>GTTCGAGATTTAGGACTCTAGTGGCACACTATCCCCCAGTACAAGT...</td>\n",
       "      <td>GTTCGAGATTTAGGACTCTAGTGGCACACTATCCCCCAGTACAAGT...</td>\n",
       "      <td>A/C</td>\n",
       "      <td>ATG</td>\n",
       "      <td>1445</td>\n",
       "      <td>1597</td>\n",
       "      <td>ALLELEID=366542;CLNDISDB=MeSH:D003123,MedGen:C...</td>\n",
       "      <td>0.045006</td>\n",
       "      <td>0.045006</td>\n",
       "      <td>0.000000</td>\n",
       "    </tr>\n",
       "    <tr>\n",
       "      <th>35243</th>\n",
       "      <td>ENST00000538136</td>\n",
       "      <td>GTTCGAGATTTAGGACTCTAGTGGCACACTATCCCCCAGTACAAGT...</td>\n",
       "      <td>GTTCGAGATTTAGGACTCTAGTGGCACACTATCCCCCAGTACAAGT...</td>\n",
       "      <td>A/C</td>\n",
       "      <td>ATG</td>\n",
       "      <td>929</td>\n",
       "      <td>1722</td>\n",
       "      <td>ALLELEID=366542;CLNDISDB=MeSH:D003123,MedGen:C...</td>\n",
       "      <td>0.045006</td>\n",
       "      <td>0.045006</td>\n",
       "      <td>0.000000</td>\n",
       "    </tr>\n",
       "    <tr>\n",
       "      <th>35244</th>\n",
       "      <td>ENST00000616033</td>\n",
       "      <td>GTTCGAGATTTAGGACTCTAGTGGCACACTATCCCCCAGTACAAGT...</td>\n",
       "      <td>GTTCGAGATTTAGGACTCTAGTGGCACACTATCCCCCAGTACAAGT...</td>\n",
       "      <td>A/C</td>\n",
       "      <td>ATG</td>\n",
       "      <td>1832</td>\n",
       "      <td>1915</td>\n",
       "      <td>ALLELEID=366542;CLNDISDB=MeSH:D003123,MedGen:C...</td>\n",
       "      <td>0.045006</td>\n",
       "      <td>0.045006</td>\n",
       "      <td>0.000000</td>\n",
       "    </tr>\n",
       "    <tr>\n",
       "      <th>35245</th>\n",
       "      <td>ENST00000234420</td>\n",
       "      <td>GTTCGAGATTTAGGACTCTAGTGGCACACTATCCCCCAGTACAAGT...</td>\n",
       "      <td>GTTCGAGATTTAGGACTCTAGTGGCACACTATCCCCCAGTACAAGT...</td>\n",
       "      <td>A/C</td>\n",
       "      <td>ATG</td>\n",
       "      <td>1835</td>\n",
       "      <td>1987</td>\n",
       "      <td>ALLELEID=366542;CLNDISDB=MeSH:D003123,MedGen:C...</td>\n",
       "      <td>0.045006</td>\n",
       "      <td>0.045006</td>\n",
       "      <td>0.000000</td>\n",
       "    </tr>\n",
       "    <tr>\n",
       "      <th>35246</th>\n",
       "      <td>ENST00000614496</td>\n",
       "      <td>GTTCGAGATTTAGGACTCTAGTGGCACACTATCCCCCAGTACAAGT...</td>\n",
       "      <td>GTTCGAGATTTAGGACTCTAGTGGCACACTATCCCCCAGTACAAGT...</td>\n",
       "      <td>A/C</td>\n",
       "      <td>ATG</td>\n",
       "      <td>929</td>\n",
       "      <td>1817</td>\n",
       "      <td>ALLELEID=366542;CLNDISDB=MeSH:D003123,MedGen:C...</td>\n",
       "      <td>0.045006</td>\n",
       "      <td>0.045006</td>\n",
       "      <td>0.000000</td>\n",
       "    </tr>\n",
       "  </tbody>\n",
       "</table>\n",
       "<p>329346 rows × 11 columns</p>\n",
       "</div>"
      ],
      "text/plain": [
       "         transcript_ids                                          sequences  \\\n",
       "28417   ENST00000233146  GCCGGACGCCGCTCGGGGGACGTGGGAGGGGAGGCGGGAAACAGCT...   \n",
       "28419   ENST00000233146  GCCGGACGCCGCTCGGGGGACGTGGGAGGGGAGGCGGGAAACAGCT...   \n",
       "223044  ENST00000544455  AAAAATTTGCCAAACGAAAATTATGGCAGGTTGTTACGAGGCATTG...   \n",
       "223043  ENST00000380152  AAAAATTTGCCAAACGAAAATTATGGCAGGTTGTTACGAGGCATTG...   \n",
       "114291  ENST00000508376  TGTATTGTGTTGAAGGGACACCTATAAACTTTTCCACAGCTACATC...   \n",
       "...                 ...                                                ...   \n",
       "35242   ENST00000540021  GTTCGAGATTTAGGACTCTAGTGGCACACTATCCCCCAGTACAAGT...   \n",
       "35243   ENST00000538136  GTTCGAGATTTAGGACTCTAGTGGCACACTATCCCCCAGTACAAGT...   \n",
       "35244   ENST00000616033  GTTCGAGATTTAGGACTCTAGTGGCACACTATCCCCCAGTACAAGT...   \n",
       "35245   ENST00000234420  GTTCGAGATTTAGGACTCTAGTGGCACACTATCCCCCAGTACAAGT...   \n",
       "35246   ENST00000614496  GTTCGAGATTTAGGACTCTAGTGGCACACTATCCCCCAGTACAAGT...   \n",
       "\n",
       "                                            alt_sequences ref_alts  \\\n",
       "28417   GCCGGACGCCGCTCGGGGGACGTGGGAGGGGAGGCGGGAAACAGCT...      A/C   \n",
       "28419   GCCGGACGCCGCTCGGGGGACGTGGGAGGGGAGGCGGGAAACAGCT...      A/T   \n",
       "223044  AAAAATTTGCCAAACGAAAATTATGGCAGGTTGTTACGAGGCATTG...      C/G   \n",
       "223043  AAAAATTTGCCAAACGAAAATTATGGCAGGTTGTTACGAGGCATTG...      C/G   \n",
       "114291  TGTATTGTGTTGAAGGGACACCTATAAACTTTTCCACAGCTACATC...      A/C   \n",
       "...                                                   ...      ...   \n",
       "35242   GTTCGAGATTTAGGACTCTAGTGGCACACTATCCCCCAGTACAAGT...      A/C   \n",
       "35243   GTTCGAGATTTAGGACTCTAGTGGCACACTATCCCCCAGTACAAGT...      A/C   \n",
       "35244   GTTCGAGATTTAGGACTCTAGTGGCACACTATCCCCCAGTACAAGT...      A/C   \n",
       "35245   GTTCGAGATTTAGGACTCTAGTGGCACACTATCCCCCAGTACAAGT...      A/C   \n",
       "35246   GTTCGAGATTTAGGACTCTAGTGGCACACTATCCCCCAGTACAAGT...      A/C   \n",
       "\n",
       "       first_codons cut_distances_from_first_cds_nt  \\\n",
       "28417           ATG                               0   \n",
       "28419           ATG                               0   \n",
       "223044          ATG                            5745   \n",
       "223043          ATG                            5745   \n",
       "114291          ATG                            5021   \n",
       "...             ...                             ...   \n",
       "35242           ATG                            1445   \n",
       "35243           ATG                             929   \n",
       "35244           ATG                            1832   \n",
       "35245           ATG                            1835   \n",
       "35246           ATG                             929   \n",
       "\n",
       "       variant_position_relative_to_transcript  \\\n",
       "28417                                      223   \n",
       "28419                                      223   \n",
       "223044                                    5972   \n",
       "223043                                    5978   \n",
       "114291                                    5178   \n",
       "...                                        ...   \n",
       "35242                                     1597   \n",
       "35243                                     1722   \n",
       "35244                                     1915   \n",
       "35245                                     1987   \n",
       "35246                                     1817   \n",
       "\n",
       "                                                     info  ref_pred  alt_pred  \\\n",
       "28417   ALLELEID=96307;CLNDISDB=MeSH:D003123,MedGen:C0...  0.869643  0.047000   \n",
       "28419   ALLELEID=96309;CLNDISDB=MeSH:D003123,MedGen:C0...  0.869643  0.060208   \n",
       "223044  ALLELEID=1499555;CLNDISDB=MONDO:MONDO:0003582,...  0.056945  0.835344   \n",
       "223043  ALLELEID=1499555;CLNDISDB=MONDO:MONDO:0003582,...  0.056945  0.835344   \n",
       "114291  ALLELEID=1600689;CLNDISDB=MONDO:MONDO:0021056,...  0.874237  0.121534   \n",
       "...                                                   ...       ...       ...   \n",
       "35242   ALLELEID=366542;CLNDISDB=MeSH:D003123,MedGen:C...  0.045006  0.045006   \n",
       "35243   ALLELEID=366542;CLNDISDB=MeSH:D003123,MedGen:C...  0.045006  0.045006   \n",
       "35244   ALLELEID=366542;CLNDISDB=MeSH:D003123,MedGen:C...  0.045006  0.045006   \n",
       "35245   ALLELEID=366542;CLNDISDB=MeSH:D003123,MedGen:C...  0.045006  0.045006   \n",
       "35246   ALLELEID=366542;CLNDISDB=MeSH:D003123,MedGen:C...  0.045006  0.045006   \n",
       "\n",
       "        prediction_diff  \n",
       "28417          0.822643  \n",
       "28419          0.809435  \n",
       "223044         0.778399  \n",
       "223043         0.778399  \n",
       "114291         0.752703  \n",
       "...                 ...  \n",
       "35242          0.000000  \n",
       "35243          0.000000  \n",
       "35244          0.000000  \n",
       "35245          0.000000  \n",
       "35246          0.000000  \n",
       "\n",
       "[329346 rows x 11 columns]"
      ]
     },
     "execution_count": 189,
     "metadata": {},
     "output_type": "execute_result"
    }
   ],
   "source": [
    "collected_seq_data_pd_loaded.sort_values('prediction_diff', ascending=False, inplace=False).round(6)"
   ]
  },
  {
   "cell_type": "code",
   "execution_count": null,
   "id": "e7898997-20db-4236-9b99-559241ffed75",
   "metadata": {},
   "outputs": [],
   "source": []
  },
  {
   "cell_type": "code",
   "execution_count": null,
   "id": "7aff6273-ee4b-427c-86ce-65b68990d5c9",
   "metadata": {},
   "outputs": [],
   "source": []
  }
 ],
 "metadata": {
  "kernelspec": {
   "display_name": "Python [conda env:decay_exploration]",
   "language": "python",
   "name": "conda-env-decay_exploration-py"
  },
  "language_info": {
   "codemirror_mode": {
    "name": "ipython",
    "version": 3
   },
   "file_extension": ".py",
   "mimetype": "text/x-python",
   "name": "python",
   "nbconvert_exporter": "python",
   "pygments_lexer": "ipython3",
   "version": "3.8.15"
  }
 },
 "nbformat": 4,
 "nbformat_minor": 5
}
